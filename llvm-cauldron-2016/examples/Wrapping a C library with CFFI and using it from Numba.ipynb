{
 "cells": [
  {
   "cell_type": "code",
   "execution_count": null,
   "metadata": {
    "collapsed": true
   },
   "outputs": [],
   "source": [
    "from numba import cffi_support, types, jit\n",
    "from cffi import FFI\n",
    "%matplotlib inline\n",
    "from matplotlib import pyplot as plt"
   ]
  },
  {
   "cell_type": "markdown",
   "metadata": {},
   "source": [
    "## Create an out-of-line module wrapping Intel's Vector Math Library"
   ]
  },
  {
   "cell_type": "markdown",
   "metadata": {},
   "source": [
    "CFFI can't handle preprocessor directives, a few of which are used in the MKL headers.\n",
    "\n",
    "So we use a trick: let's include the header and run the preprocessor over it, to get out something with no preprocessor directives in it that CFFI can read:"
   ]
  },
  {
   "cell_type": "code",
   "execution_count": null,
   "metadata": {
    "collapsed": false
   },
   "outputs": [],
   "source": [
    "%%writefile vml_cffi.h\n",
    "#include \"mkl_vml.h\""
   ]
  },
  {
   "cell_type": "code",
   "execution_count": null,
   "metadata": {
    "collapsed": false
   },
   "outputs": [],
   "source": [
    "!gcc -E vml_cffi.h -o vml_functions.h -I/home/pydata/anaconda3/envs/pydata/include"
   ]
  },
  {
   "cell_type": "markdown",
   "metadata": {},
   "source": [
    "Now let's read in the source (ignoring any lines that begin with a #):"
   ]
  },
  {
   "cell_type": "code",
   "execution_count": null,
   "metadata": {
    "collapsed": false
   },
   "outputs": [],
   "source": [
    "lines = []\n",
    "with open('vml_functions.h') as f:\n",
    "    for line in f:\n",
    "        if line[0] != '#':\n",
    "            lines.append(line)\n",
    "source = \"\".join(lines)\n",
    "#print(source)"
   ]
  },
  {
   "cell_type": "markdown",
   "metadata": {},
   "source": [
    "Now we have the source available, we can make a CFFI module with it:"
   ]
  },
  {
   "cell_type": "code",
   "execution_count": null,
   "metadata": {
    "collapsed": false
   },
   "outputs": [],
   "source": [
    "ffi = FFI()\n",
    "ffi.set_source('vmlfuncs', source, libraries=['mkl_rt'])\n",
    "ffi.cdef(source)\n",
    "ffi.compile()"
   ]
  },
  {
   "cell_type": "markdown",
   "metadata": {},
   "source": [
    "Now we can import the generated module:"
   ]
  },
  {
   "cell_type": "code",
   "execution_count": null,
   "metadata": {
    "collapsed": true
   },
   "outputs": [],
   "source": [
    "import vmlfuncs\n",
    "# The lib member contains all the functions from the header:\n",
    "vml = vmlfuncs.lib\n",
    "# The ffi member contains useful functions for working with the module\n",
    "ffi = vmlfuncs.ffi"
   ]
  },
  {
   "cell_type": "markdown",
   "metadata": {},
   "source": [
    "Instantly, we can use these functions from Python:"
   ]
  },
  {
   "cell_type": "code",
   "execution_count": null,
   "metadata": {
    "collapsed": false
   },
   "outputs": [],
   "source": [
    "import numpy as np\n",
    "points = np.linspace(-2 * np.pi, 2 * np.pi, 1000000)\n",
    "result = np.zeros_like(points)\n",
    "\n",
    "vml.vdSin(len(points), ffi.from_buffer(points), ffi.from_buffer(result))\n",
    "\n",
    "plt.plot(points, result)"
   ]
  },
  {
   "cell_type": "markdown",
   "metadata": {},
   "source": [
    "A performance difference is observed when using VML:"
   ]
  },
  {
   "cell_type": "code",
   "execution_count": null,
   "metadata": {
    "collapsed": false
   },
   "outputs": [],
   "source": [
    "points = np.linspace(-2 * np.pi, 2 * np.pi, 100000000)\n",
    "result = np.zeros_like(points)"
   ]
  },
  {
   "cell_type": "code",
   "execution_count": null,
   "metadata": {
    "collapsed": false
   },
   "outputs": [],
   "source": [
    "%timeit vml.vdSin(len(points), ffi.from_buffer(points), ffi.from_buffer(result))"
   ]
  },
  {
   "cell_type": "code",
   "execution_count": null,
   "metadata": {
    "collapsed": false
   },
   "outputs": [],
   "source": [
    "%timeit np.sin(points)"
   ]
  },
  {
   "cell_type": "markdown",
   "metadata": {},
   "source": [
    "## Using the module with Numba"
   ]
  },
  {
   "cell_type": "markdown",
   "metadata": {},
   "source": [
    "Let's define a jitted function that uses a function from our CFFI-wrapped Vector Maths Library:"
   ]
  },
  {
   "cell_type": "code",
   "execution_count": null,
   "metadata": {
    "collapsed": false
   },
   "outputs": [],
   "source": [
    "vdSin = vmlfuncs.lib.vdSin\n",
    "\n",
    "@jit(nopython=True)\n",
    "def vml_sin_from_numba(x):\n",
    "    out = np.zeros_like(x)\n",
    "    vdSin(len(x), ffi.from_buffer(x), ffi.from_buffer(out))\n",
    "    return out"
   ]
  },
  {
   "cell_type": "markdown",
   "metadata": {},
   "source": [
    "And try to call it:"
   ]
  },
  {
   "cell_type": "code",
   "execution_count": null,
   "metadata": {
    "collapsed": false
   },
   "outputs": [],
   "source": [
    "vml_sin_from_numba(points)"
   ]
  },
  {
   "cell_type": "markdown",
   "metadata": {},
   "source": [
    "The `TypingError` is because Numba needs to know a little about the type information of an out-of-line FFI module. To give it the required information, we can use Numba's `register_module` function:"
   ]
  },
  {
   "cell_type": "code",
   "execution_count": null,
   "metadata": {
    "collapsed": true
   },
   "outputs": [],
   "source": [
    "cffi_support.register_module(vmlfuncs)"
   ]
  },
  {
   "cell_type": "markdown",
   "metadata": {},
   "source": [
    "Now let's try again:"
   ]
  },
  {
   "cell_type": "code",
   "execution_count": null,
   "metadata": {
    "collapsed": false
   },
   "outputs": [],
   "source": [
    "vml_sin_from_numba(points)"
   ]
  },
  {
   "cell_type": "markdown",
   "metadata": {},
   "source": [
    "## Registering types"
   ]
  },
  {
   "cell_type": "markdown",
   "metadata": {},
   "source": [
    "Some libraries will accept arrays of structures - for example, MKL represents complex numbers using structs like:\n",
    "\n",
    "```\n",
    "struct _MKL_Complex16 {\n",
    "    double real;\n",
    "    double imag;\n",
    "} MKL_Complex16;\n",
    "```\n",
    "\n",
    "This coincides with the format of complex arrays in Numpy, which are stored in memory as pairs of real and imaginary parts. Logically we can pass these to VML but Numba needs to understand how to map the Numpy type to the C type.\n",
    "\n",
    "To give it this information, we can use the `register_type` function that it provides:"
   ]
  },
  {
   "cell_type": "code",
   "execution_count": null,
   "metadata": {
    "collapsed": false
   },
   "outputs": [],
   "source": [
    "cffi_support.register_type(ffi.typeof('struct _MKL_Complex16'), types.complex128)"
   ]
  },
  {
   "cell_type": "markdown",
   "metadata": {},
   "source": [
    "Now we should be able to use a complex-argument function from a Numba-jitted function:"
   ]
  },
  {
   "cell_type": "code",
   "execution_count": null,
   "metadata": {
    "collapsed": true
   },
   "outputs": [],
   "source": [
    "vzSin = vmlfuncs.lib.vzSin\n",
    "\n",
    "@jit(nopython=True)\n",
    "def vml_complex_sin_from_numba(x):\n",
    "    out = np.zeros_like(x)\n",
    "    vzSin(len(x), ffi.from_buffer(x), ffi.from_buffer(out))\n",
    "    return out"
   ]
  },
  {
   "cell_type": "code",
   "execution_count": null,
   "metadata": {
    "collapsed": false
   },
   "outputs": [],
   "source": [
    "c_points = np.linspace(-2 * np.pi, 2 * np.pi, 1000000) + 1j\n",
    "result = vml_complex_sin_from_numba(c_points)"
   ]
  },
  {
   "cell_type": "code",
   "execution_count": null,
   "metadata": {
    "collapsed": false
   },
   "outputs": [],
   "source": [
    "# Plot a subset of points (1000000 is a lot to plot)\n",
    "plt.scatter(result.real[::10000], result.imag[::10000])"
   ]
  },
  {
   "cell_type": "code",
   "execution_count": null,
   "metadata": {
    "collapsed": true
   },
   "outputs": [],
   "source": []
  }
 ],
 "metadata": {
  "kernelspec": {
   "display_name": "Python 3",
   "language": "python",
   "name": "python3"
  },
  "language_info": {
   "codemirror_mode": {
    "name": "ipython",
    "version": 3
   },
   "file_extension": ".py",
   "mimetype": "text/x-python",
   "name": "python",
   "nbconvert_exporter": "python",
   "pygments_lexer": "ipython3",
   "version": "3.5.1"
  }
 },
 "nbformat": 4,
 "nbformat_minor": 0
}
