{
 "cells": [
  {
   "cell_type": "code",
   "execution_count": null,
   "metadata": {
    "collapsed": false
   },
   "outputs": [],
   "source": [
    "# The usual imports\n",
    "\n",
    "%matplotlib inline\n",
    "import matplotlib.pyplot as plt\n",
    "import numpy as np\n",
    "import math"
   ]
  },
  {
   "cell_type": "markdown",
   "metadata": {},
   "source": [
    "# Function: for an n-length vector x"
   ]
  },
  {
   "cell_type": "code",
   "execution_count": null,
   "metadata": {
    "collapsed": false
   },
   "outputs": [],
   "source": [
    "from IPython.display import Image\n",
    "Image('profilerfunction.png')"
   ]
  },
  {
   "cell_type": "code",
   "execution_count": null,
   "metadata": {
    "collapsed": false
   },
   "outputs": [],
   "source": [
    "# Sine product for N dimensions on a grid between lower and upper\n",
    "\n",
    "def sin_product(lower, upper, grid):\n",
    "\n",
    "    for point in np.ndindex(grid.shape):\n",
    "        r = 1.0\n",
    "        for i, v in enumerate(point):\n",
    "            xp = [0, grid.shape[i]]\n",
    "            fp = [lower, upper]\n",
    "            r *= np.sin(np.interp(v, xp, fp))\n",
    "        grid[point] = r"
   ]
  },
  {
   "cell_type": "code",
   "execution_count": null,
   "metadata": {
    "collapsed": false
   },
   "outputs": [],
   "source": [
    "# Quick demo of function\n",
    "\n",
    "# One dimension\n",
    "\n",
    "grid1 = np.zeros(50)\n",
    "sin_product(-5, 5, grid1)\n",
    "\n",
    "plt.plot(grid1)"
   ]
  },
  {
   "cell_type": "code",
   "execution_count": null,
   "metadata": {
    "collapsed": false
   },
   "outputs": [],
   "source": [
    "# Two dimensions\n",
    "\n",
    "grid2 = np.zeros((50, 50))\n",
    "sin_product(-5, 5, grid2)\n",
    "\n",
    "plt.imshow(grid2)"
   ]
  },
  {
   "cell_type": "code",
   "execution_count": null,
   "metadata": {
    "collapsed": false
   },
   "outputs": [],
   "source": [
    "# Three dimensions\n",
    "\n",
    "grid3 = np.zeros((50, 50, 50))\n",
    "sin_product(-5, 5, grid3)\n",
    "\n",
    "# Some extra setup for plotting\n",
    "\n",
    "from mpl_toolkits.mplot3d import Axes3D\n",
    "fig = plt.figure()\n",
    "ax = fig.add_subplot(111, projection='3d')\n",
    "\n",
    "x = np.linspace(-5, 5, 50)\n",
    "y = np.linspace(-5, 5, 50)\n",
    "z = np.linspace(-5, 5, 50)\n",
    "\n",
    "x, y, z = np.meshgrid(x, y, z)\n",
    "\n",
    "ax.scatter(x, y, z, c=grid3)\n",
    "plt.show()"
   ]
  },
  {
   "cell_type": "markdown",
   "metadata": {},
   "source": [
    "The data profiler has a similar API to the standard library profiler:"
   ]
  },
  {
   "cell_type": "code",
   "execution_count": null,
   "metadata": {
    "collapsed": true
   },
   "outputs": [],
   "source": [
    "# Create profiler object\n",
    "\n",
    "from accelerate import profiler\n",
    "p = profiler.Profile()"
   ]
  },
  {
   "cell_type": "code",
   "execution_count": null,
   "metadata": {
    "collapsed": false
   },
   "outputs": [],
   "source": [
    "# Profile execution of the function\n",
    "#\n",
    "# Same function, three different sets of arguments\n",
    "\n",
    "def sinmulti():\n",
    "    grid1 = np.zeros(50)\n",
    "    grid2 = np.zeros((50, 50))\n",
    "    grid3 = np.zeros((50, 50, 50))\n",
    "    \n",
    "    sin_product(-5, 5, grid1)\n",
    "    sin_product(-5, 5, grid2)\n",
    "    sin_product(-5.0, 5.0, grid3)\n",
    "\n",
    "p.run('sinmulti()')"
   ]
  },
  {
   "cell_type": "code",
   "execution_count": null,
   "metadata": {
    "collapsed": false
   },
   "outputs": [],
   "source": [
    "# Print out the profile\n",
    "\n",
    "p.print_stats()"
   ]
  },
  {
   "cell_type": "code",
   "execution_count": null,
   "metadata": {
    "collapsed": false
   },
   "outputs": [],
   "source": [
    "# Plot the profile\n",
    "\n",
    "profiler.plot(p)"
   ]
  },
  {
   "cell_type": "code",
   "execution_count": null,
   "metadata": {
    "collapsed": true
   },
   "outputs": [],
   "source": []
  }
 ],
 "metadata": {
  "kernelspec": {
   "display_name": "Python 3",
   "language": "python",
   "name": "python3"
  },
  "language_info": {
   "codemirror_mode": {
    "name": "ipython",
    "version": 3
   },
   "file_extension": ".py",
   "mimetype": "text/x-python",
   "name": "python",
   "nbconvert_exporter": "python",
   "pygments_lexer": "ipython3",
   "version": "3.5.1"
  }
 },
 "nbformat": 4,
 "nbformat_minor": 0
}
