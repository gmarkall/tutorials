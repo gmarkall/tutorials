{
 "cells": [
  {
   "cell_type": "markdown",
   "metadata": {},
   "source": [
    "# Exercise 2.1 - Compilation modes\n",
    "\n",
    "## Objective\n",
    "\n",
    "- Understand the differences in typing between nopython mode and object mode.\n",
    "- See how to force nopython mode compilation\n",
    "- Understand what typing errors due to failed unification look like\n",
    "- Understand what typing errors due to unsupported functions look like\n",
    "\n",
    "## Object and Nopython mode\n",
    "\n",
    "Define a function which is compiled by Numba, and the same function again, with the restriction that it must be compiled on nopython mode:"
   ]
  },
  {
   "cell_type": "code",
   "execution_count": null,
   "metadata": {
    "collapsed": true
   },
   "outputs": [],
   "source": [
    "from numba import jit\n",
    "\n",
    "@jit\n",
    "def add(a, b):\n",
    "    return a + b\n",
    "\n",
    "@jit(nopython=True)\n",
    "def add_nopython(a, b):\n",
    "    return a + b"
   ]
  },
  {
   "cell_type": "markdown",
   "metadata": {},
   "source": [
    "We can call add with unsupported types:"
   ]
  },
  {
   "cell_type": "code",
   "execution_count": null,
   "metadata": {
    "collapsed": false
   },
   "outputs": [],
   "source": [
    "add(\"A\", \"B\")"
   ]
  },
  {
   "cell_type": "markdown",
   "metadata": {},
   "source": [
    "Have a look at the typing which Numba generated:"
   ]
  },
  {
   "cell_type": "code",
   "execution_count": null,
   "metadata": {
    "collapsed": false
   },
   "outputs": [],
   "source": [
    "add.inspect_types()"
   ]
  },
  {
   "cell_type": "markdown",
   "metadata": {},
   "source": [
    "The `pyobject` type is any Python type - that is, Numba does not know or cannot constrain the types of a variable with this type. As a result, the generated code contains calls to CPython C API functions:"
   ]
  },
  {
   "cell_type": "code",
   "execution_count": null,
   "metadata": {
    "collapsed": false
   },
   "outputs": [],
   "source": [
    "def show_asm(func):\n",
    "    asm_code = func.inspect_asm()\n",
    "    for k, v in asm_code.items():\n",
    "        print('-' * 80)\n",
    "        print(\"Signature:\", k)\n",
    "        print('-' * 80)\n",
    "        print(v)\n",
    "        print()\n",
    "\n",
    "show_asm(add)"
   ]
  },
  {
   "cell_type": "markdown",
   "metadata": {},
   "source": [
    "Notice how there are calls to functions such as `Py_IncRef`, etc. - the need to involve the Python interpreter and reference counting can create a lot of additional overhead.\n",
    "\n",
    "Using nopython mode avoids these overheads, by making any operation that would require help from the Python interpreter an error. Try:"
   ]
  },
  {
   "cell_type": "code",
   "execution_count": null,
   "metadata": {
    "collapsed": false
   },
   "outputs": [],
   "source": [
    "add_nopython(\"A\", \"B\")"
   ]
  },
  {
   "cell_type": "markdown",
   "metadata": {},
   "source": [
    "Strings are not supported in nopython mode, resulting in the error. The add_nopython function does work for supported types:"
   ]
  },
  {
   "cell_type": "code",
   "execution_count": null,
   "metadata": {
    "collapsed": false
   },
   "outputs": [],
   "source": [
    "add_nopython(1, 2)"
   ]
  },
  {
   "cell_type": "markdown",
   "metadata": {},
   "source": [
    "## Unification\n",
    "\n",
    "Not only must all types be resolved to a supported type when using nopython mode, all types must also unify to a single supported type at the time of compilation. For example:"
   ]
  },
  {
   "cell_type": "code",
   "execution_count": null,
   "metadata": {
    "collapsed": false
   },
   "outputs": [],
   "source": [
    "@jit(nopython=True)\n",
    "def select(a, b, c):\n",
    "    if c:\n",
    "        x = a\n",
    "    else:\n",
    "        x = b\n",
    "    return x\n",
    "\n",
    "select(1, (1, 2), True)"
   ]
  },
  {
   "cell_type": "markdown",
   "metadata": {},
   "source": [
    "Note that the typing cannot depend on the runtime behaviour of the code. In this example, it may be that select is only ever called with `c = True`, so the function would only ever return one type. However, Numba cannot know this, and must always generate typing and code for all paths.\n",
    "\n",
    "## Unsupported functions\n",
    "\n",
    "Finally, let’s try calling a function that is not supported in nopython mode:"
   ]
  },
  {
   "cell_type": "code",
   "execution_count": null,
   "metadata": {
    "collapsed": false
   },
   "outputs": [],
   "source": [
    "import numpy as np\n",
    "\n",
    "@jit(nopython=True)\n",
    "def scaled_det(A, x):\n",
    "    return np.linalg.det(A) * x\n",
    "\n",
    "scaled_det(np.arange(9).reshape(3,3), 2.0)"
   ]
  },
  {
   "cell_type": "markdown",
   "metadata": {},
   "source": [
    "The above error message indicates that the `det` method is unsupported by Numba.\n",
    "\n",
    "## Summary\n",
    "\n",
    "- You can instruct Numba to only use nopython mode by passing `nopython=True` to the jit decorator.\n",
    "- This doesn't change the way Numba works, but makes it an error if the function can't be compiled in nopython mode.\n",
    "- Type unification is done without any analysis to determine whether a branch will be taken or not taken - all branches must be able to be unified.\n",
    "- Calling functions unsupported by Numba will result in an error in nopython mode."
   ]
  },
  {
   "cell_type": "code",
   "execution_count": null,
   "metadata": {
    "collapsed": true
   },
   "outputs": [],
   "source": []
  },
  {
   "cell_type": "code",
   "execution_count": null,
   "metadata": {
    "collapsed": true
   },
   "outputs": [],
   "source": []
  }
 ],
 "metadata": {
  "kernelspec": {
   "display_name": "Python 3",
   "language": "python",
   "name": "python3"
  },
  "language_info": {
   "codemirror_mode": {
    "name": "ipython",
    "version": 3
   },
   "file_extension": ".py",
   "mimetype": "text/x-python",
   "name": "python",
   "nbconvert_exporter": "python",
   "pygments_lexer": "ipython3",
   "version": "3.4.3"
  }
 },
 "nbformat": 4,
 "nbformat_minor": 0
}
