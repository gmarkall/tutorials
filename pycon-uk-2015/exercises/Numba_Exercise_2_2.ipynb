{
 "cells": [
  {
   "cell_type": "markdown",
   "metadata": {},
   "source": [
    "# Exercise 2.1 - Compilation modes\n",
    "\n",
    "Let’s examine the differences between nopython mode and object mode. Define a function which is compiled by Numba, and the same function again, with the restriction that it must be compiled on nopython mode:"
   ]
  },
  {
   "cell_type": "code",
   "execution_count": 1,
   "metadata": {
    "collapsed": true
   },
   "outputs": [],
   "source": [
    "from numba import jit\n",
    "\n",
    "@jit\n",
    "def add(a, b):\n",
    "    return a + b\n",
    "\n",
    "@jit(nopython=True)\n",
    "def add_nopython(a, b):\n",
    "    return a + b"
   ]
  },
  {
   "cell_type": "markdown",
   "metadata": {},
   "source": [
    "We can call add with unsupported types:"
   ]
  },
  {
   "cell_type": "code",
   "execution_count": 2,
   "metadata": {
    "collapsed": false
   },
   "outputs": [
    {
     "data": {
      "text/plain": [
       "'AB'"
      ]
     },
     "execution_count": 2,
     "metadata": {},
     "output_type": "execute_result"
    }
   ],
   "source": [
    "add(\"A\", \"B\")"
   ]
  },
  {
   "cell_type": "markdown",
   "metadata": {},
   "source": [
    "Have a look at the typing which Numba generated:"
   ]
  },
  {
   "cell_type": "code",
   "execution_count": 3,
   "metadata": {
    "collapsed": false
   },
   "outputs": [
    {
     "name": "stdout",
     "output_type": "stream",
     "text": [
      "add (str, str)\n",
      "--------------------------------------------------------------------------------\n",
      "# File: <ipython-input-1-13f4285e6146>\n",
      "# --- LINE 3 --- \n",
      "\n",
      "@jit\n",
      "\n",
      "# --- LINE 4 --- \n",
      "\n",
      "def add(a, b):\n",
      "\n",
      "    # --- LINE 5 --- \n",
      "    # label 0\n",
      "    #   a = arg(0, name=a)  :: pyobject\n",
      "    #   b = arg(1, name=b)  :: pyobject\n",
      "    #   $0.3 = a + b  :: pyobject\n",
      "    #   del b\n",
      "    #   del a\n",
      "    #   $0.4 = cast(value=$0.3)  :: pyobject\n",
      "    #   del $0.3\n",
      "    #   return $0.4\n",
      "\n",
      "    return a + b\n",
      "\n",
      "\n",
      "================================================================================\n"
     ]
    }
   ],
   "source": [
    "add.inspect_types()"
   ]
  },
  {
   "cell_type": "markdown",
   "metadata": {},
   "source": [
    "The `pyobject` type is any Python type - that is, Numba does not know or cannot constrain the types of a variable with this type. As a result, the generated code contains calls to CPython C API functions:"
   ]
  },
  {
   "cell_type": "code",
   "execution_count": 5,
   "metadata": {
    "collapsed": false
   },
   "outputs": [
    {
     "name": "stdout",
     "output_type": "stream",
     "text": [
      "--------------------------------------------------------------------------------\n",
      "Signature: (str, str)\n",
      "--------------------------------------------------------------------------------\n",
      "\t.text\n",
      "\t.file\t\"<string>\"\n",
      "\t.globl\t__main__.add$1.pyobject.pyobject\n",
      "\t.align\t16, 0x90\n",
      "\t.type\t__main__.add$1.pyobject.pyobject,@function\n",
      "__main__.add$1.pyobject.pyobject:\n",
      "\t.cfi_startproc\n",
      "\tpushq\t%rbp\n",
      ".Ltmp0:\n",
      "\t.cfi_def_cfa_offset 16\n",
      "\tpushq\t%r15\n",
      ".Ltmp1:\n",
      "\t.cfi_def_cfa_offset 24\n",
      "\tpushq\t%r14\n",
      ".Ltmp2:\n",
      "\t.cfi_def_cfa_offset 32\n",
      "\tpushq\t%r13\n",
      ".Ltmp3:\n",
      "\t.cfi_def_cfa_offset 40\n",
      "\tpushq\t%r12\n",
      ".Ltmp4:\n",
      "\t.cfi_def_cfa_offset 48\n",
      "\tpushq\t%rbx\n",
      ".Ltmp5:\n",
      "\t.cfi_def_cfa_offset 56\n",
      "\tpushq\t%rax\n",
      ".Ltmp6:\n",
      "\t.cfi_def_cfa_offset 64\n",
      ".Ltmp7:\n",
      "\t.cfi_offset %rbx, -56\n",
      ".Ltmp8:\n",
      "\t.cfi_offset %r12, -48\n",
      ".Ltmp9:\n",
      "\t.cfi_offset %r13, -40\n",
      ".Ltmp10:\n",
      "\t.cfi_offset %r14, -32\n",
      ".Ltmp11:\n",
      "\t.cfi_offset %r15, -24\n",
      ".Ltmp12:\n",
      "\t.cfi_offset %rbp, -16\n",
      "\tmovq\t%r8, %r14\n",
      "\tmovq\t%rcx, %r12\n",
      "\tmovq\t%rdi, %r15\n",
      "\ttestq\t%rdx, %rdx\n",
      "\tje\t.LBB0_1\n",
      "\tmovabsq\t$Py_IncRef, %r13\n",
      "\tmovq\t%r12, %rdi\n",
      "\tcallq\t*%r13\n",
      "\tmovq\t%r14, %rdi\n",
      "\tcallq\t*%r13\n",
      "\ttestq\t%r12, %r12\n",
      "\tje\t.LBB0_3\n",
      "\ttestq\t%r14, %r14\n",
      "\tje\t.LBB0_5\n",
      "\tmovabsq\t$PyNumber_Add, %rax\n",
      "\tmovq\t%r12, %rdi\n",
      "\tmovq\t%r14, %rsi\n",
      "\tcallq\t*%rax\n",
      "\tmovq\t%rax, %rbx\n",
      "\ttestq\t%rbx, %rbx\n",
      "\tje\t.LBB0_7\n",
      "\tmovabsq\t$Py_DecRef, %rbp\n",
      "\tmovq\t%r14, %rdi\n",
      "\tcallq\t*%rbp\n",
      "\tmovq\t%r12, %rdi\n",
      "\tcallq\t*%rbp\n",
      "\tmovq\t%rbx, %rdi\n",
      "\tcallq\t*%r13\n",
      "\tmovq\t%rbx, %rdi\n",
      "\tcallq\t*%rbp\n",
      "\tmovq\t%rbx, (%r15)\n",
      "\txorl\t%eax, %eax\n",
      ".LBB0_11:\n",
      "\taddq\t$8, %rsp\n",
      "\tpopq\t%rbx\n",
      "\tpopq\t%r12\n",
      "\tpopq\t%r13\n",
      "\tpopq\t%r14\n",
      "\tpopq\t%r15\n",
      "\tpopq\t%rbp\n",
      "\tretq\n",
      ".LBB0_1:\n",
      "\tmovabsq\t$PyExc_SystemError, %rdi\n",
      "\tmovabsq\t$\".const.Numba_internal_error:_object_mode_function_called_without_an_environment\", %rsi\n",
      "\tmovabsq\t$PyErr_SetString, %rax\n",
      "\tcallq\t*%rax\n",
      "\tjmp\t.LBB0_10\n",
      ".LBB0_3:\n",
      "\tmovabsq\t$PyExc_NameError, %rdi\n",
      "\tmovabsq\t$\".const.name_'a'_is_not_defined\", %rsi\n",
      "\tmovabsq\t$PyErr_SetString, %rax\n",
      "\tcallq\t*%rax\n",
      "\tmovabsq\t$Py_DecRef, %rbx\n",
      "\txorl\t%edi, %edi\n",
      "\tjmp\t.LBB0_8\n",
      ".LBB0_5:\n",
      "\tmovabsq\t$PyExc_NameError, %rdi\n",
      "\tmovabsq\t$\".const.name_'b'_is_not_defined\", %rsi\n",
      "\tmovabsq\t$PyErr_SetString, %rax\n",
      "\tcallq\t*%rax\n",
      "\tmovabsq\t$Py_DecRef, %rbx\n",
      "\tmovq\t%r12, %rdi\n",
      "\tcallq\t*%rbx\n",
      "\txorl\t%edi, %edi\n",
      "\tjmp\t.LBB0_9\n",
      ".LBB0_7:\n",
      "\tmovabsq\t$Py_DecRef, %rbx\n",
      "\tmovq\t%r12, %rdi\n",
      ".LBB0_8:\n",
      "\tcallq\t*%rbx\n",
      "\tmovq\t%r14, %rdi\n",
      ".LBB0_9:\n",
      "\tcallq\t*%rbx\n",
      ".LBB0_10:\n",
      "\tmovl\t$-1, %eax\n",
      "\tjmp\t.LBB0_11\n",
      ".Ltmp13:\n",
      "\t.size\t__main__.add$1.pyobject.pyobject, .Ltmp13-__main__.add$1.pyobject.pyobject\n",
      "\t.cfi_endproc\n",
      "\n",
      "\t.globl\twrapper.__main__.add$1.pyobject.pyobject\n",
      "\t.align\t16, 0x90\n",
      "\t.type\twrapper.__main__.add$1.pyobject.pyobject,@function\n",
      "wrapper.__main__.add$1.pyobject.pyobject:\n",
      "\t.cfi_startproc\n",
      "\tpushq\t%r14\n",
      ".Ltmp14:\n",
      "\t.cfi_def_cfa_offset 16\n",
      "\tpushq\t%rbx\n",
      ".Ltmp15:\n",
      "\t.cfi_def_cfa_offset 24\n",
      "\tsubq\t$40, %rsp\n",
      ".Ltmp16:\n",
      "\t.cfi_def_cfa_offset 64\n",
      ".Ltmp17:\n",
      "\t.cfi_offset %rbx, -24\n",
      ".Ltmp18:\n",
      "\t.cfi_offset %r14, -16\n",
      "\tmovq\t%rdi, %rbx\n",
      "\tmovabsq\t$.const.add, %r10\n",
      "\tmovabsq\t$PyArg_UnpackTuple, %r11\n",
      "\txorl\t%r14d, %r14d\n",
      "\tleaq\t32(%rsp), %r8\n",
      "\tleaq\t24(%rsp), %r9\n",
      "\tmovl\t$2, %edx\n",
      "\tmovl\t$2, %ecx\n",
      "\txorl\t%eax, %eax\n",
      "\tmovq\t%rsi, %rdi\n",
      "\tmovq\t%r10, %rsi\n",
      "\tcallq\t*%r11\n",
      "\ttestl\t%eax, %eax\n",
      "\tje\t.LBB1_1\n",
      "\ttestq\t%rbx, %rbx\n",
      "\tje\t.LBB1_16\n",
      "\tmovq\t24(%rbx), %rdx\n",
      "\ttestq\t%rdx, %rdx\n",
      "\tje\t.LBB1_5\n",
      "\tmovq\t32(%rsp), %rcx\n",
      "\tmovq\t24(%rsp), %r8\n",
      "\tmovq\t$0, 16(%rsp)\n",
      "\tmovabsq\t$__main__.add$1.pyobject.pyobject, %rax\n",
      "\tleaq\t16(%rsp), %rdi\n",
      "\tleaq\t8(%rsp), %rsi\n",
      "\tcallq\t*%rax\n",
      "\tcmpl\t$-2, %eax\n",
      "\tjne\t.LBB1_7\n",
      "\tmovabsq\t$Py_None, %rbx\n",
      "\tmovabsq\t$Py_IncRef, %rax\n",
      "\tmovq\t%rbx, %rdi\n",
      "\tcallq\t*%rax\n",
      "\tmovq\t%rbx, %rax\n",
      "\tjmp\t.LBB1_2\n",
      ".LBB1_7:\n",
      "\ttestl\t%eax, %eax\n",
      "\tjne\t.LBB1_10\n",
      "\tmovq\t16(%rsp), %r14\n",
      "\tjmp\t.LBB1_1\n",
      ".LBB1_10:\n",
      "\txorl\t%r14d, %r14d\n",
      "\tcmpl\t$-1, %eax\n",
      "\tje\t.LBB1_1\n",
      "\ttestl\t%eax, %eax\n",
      "\tjg\t.LBB1_17\n",
      "\tcmpl\t$-3, %eax\n",
      "\tjne\t.LBB1_15\n",
      "\tmovabsq\t$PyExc_StopIteration, %rdi\n",
      "\tmovabsq\t$PyErr_SetNone, %rax\n",
      "\tcallq\t*%rax\n",
      "\txorl\t%eax, %eax\n",
      "\tjmp\t.LBB1_2\n",
      ".LBB1_15:\n",
      "\tmovabsq\t$PyExc_SystemError, %rdi\n",
      "\tmovabsq\t$\".const.unknown_error_in_native_function:___main__.add$1.pyobject.pyobject\", %rsi\n",
      "\tmovabsq\t$PyErr_SetString, %rax\n",
      "\tcallq\t*%rax\n",
      "\txorl\t%r14d, %r14d\n",
      ".LBB1_1:\n",
      "\tmovq\t%r14, %rax\n",
      ".LBB1_2:\n",
      "\taddq\t$40, %rsp\n",
      "\tpopq\t%rbx\n",
      "\tpopq\t%r14\n",
      "\tretq\n",
      ".LBB1_5:\n",
      "\tmovabsq\t$PyExc_RuntimeError, %rdi\n",
      "\tmovabsq\t$.const.missing_Environment, %rsi\n",
      "\tmovabsq\t$PyErr_SetString, %rax\n",
      "\tcallq\t*%rax\n",
      "\txorl\t%eax, %eax\n",
      "\tjmp\t.LBB1_2\n",
      ".LBB1_16:\n",
      "\tmovabsq\t$\".const.Fatal_error:_missing__dynfunc.Closure\", %rdi\n",
      "\tmovabsq\t$puts, %rax\n",
      "\tcallq\t*%rax\n",
      ".LBB1_17:\n",
      "\tud2\n",
      ".Ltmp19:\n",
      "\t.size\twrapper.__main__.add$1.pyobject.pyobject, .Ltmp19-wrapper.__main__.add$1.pyobject.pyobject\n",
      "\t.cfi_endproc\n",
      "\n",
      "\t.type\t\".const.Numba_internal_error:_object_mode_function_called_without_an_environment\",@object\n",
      "\t.section\t.rodata,\"a\",@progbits\n",
      "\t.align\t16\n",
      "\".const.Numba_internal_error:_object_mode_function_called_without_an_environment\":\n",
      "\t.asciz\t\"Numba internal error: object mode function called without an environment\"\n",
      "\t.size\t\".const.Numba_internal_error:_object_mode_function_called_without_an_environment\", 73\n",
      "\n",
      "\t.type\t\".const.name_'a'_is_not_defined\",@object\n",
      "\t.align\t16\n",
      "\".const.name_'a'_is_not_defined\":\n",
      "\t.asciz\t\"name 'a' is not defined\"\n",
      "\t.size\t\".const.name_'a'_is_not_defined\", 24\n",
      "\n",
      "\t.type\t\".const.name_'b'_is_not_defined\",@object\n",
      "\t.align\t16\n",
      "\".const.name_'b'_is_not_defined\":\n",
      "\t.asciz\t\"name 'b' is not defined\"\n",
      "\t.size\t\".const.name_'b'_is_not_defined\", 24\n",
      "\n",
      "\t.type\t.const.add,@object\n",
      ".const.add:\n",
      "\t.asciz\t\"add\"\n",
      "\t.size\t.const.add, 4\n",
      "\n",
      "\t.type\t\".const.Fatal_error:_missing__dynfunc.Closure\",@object\n",
      "\t.align\t16\n",
      "\".const.Fatal_error:_missing__dynfunc.Closure\":\n",
      "\t.asciz\t\"Fatal error: missing _dynfunc.Closure\"\n",
      "\t.size\t\".const.Fatal_error:_missing__dynfunc.Closure\", 38\n",
      "\n",
      "\t.type\t.const.missing_Environment,@object\n",
      "\t.align\t16\n",
      ".const.missing_Environment:\n",
      "\t.asciz\t\"missing Environment\"\n",
      "\t.size\t.const.missing_Environment, 20\n",
      "\n",
      "\t.type\t\".const.unknown_error_in_native_function:___main__.add$1.pyobject.pyobject\",@object\n",
      "\t.align\t16\n",
      "\".const.unknown_error_in_native_function:___main__.add$1.pyobject.pyobject\":\n",
      "\t.asciz\t\"unknown error in native function: __main__.add$1.pyobject.pyobject\"\n",
      "\t.size\t\".const.unknown_error_in_native_function:___main__.add$1.pyobject.pyobject\", 67\n",
      "\n",
      "\n",
      "\t.section\t\".note.GNU-stack\",\"\",@progbits\n",
      "\n",
      "\n"
     ]
    }
   ],
   "source": [
    "def show_asm(func):\n",
    "    asm_code = func.inspect_asm()\n",
    "    for k, v in asm_code.items():\n",
    "        print('-' * 80)\n",
    "        print(\"Signature:\", k)\n",
    "        print('-' * 80)\n",
    "        print(v)\n",
    "        print()\n",
    "\n",
    "show_asm(add)"
   ]
  },
  {
   "cell_type": "markdown",
   "metadata": {},
   "source": [
    "Notice how there are calls to functions such as `Py_IncRef`, etc. - the need to involve the Python interpreter and reference counting can create a lot of additional overhead.\n",
    "\n",
    "Using nopython mode avoids these overheads, by making any operation that would require help from the Python interpreter an error. Try:"
   ]
  },
  {
   "cell_type": "code",
   "execution_count": 6,
   "metadata": {
    "collapsed": false
   },
   "outputs": [
    {
     "ename": "TypingError",
     "evalue": "Failed at nopython (nopython frontend)\nInvalid usage of + with parameters (str, str)\nKnown signatures:\n * (int64, int64) -> int64\n * (int64, uint64) -> int64\n * (uint64, int64) -> int64\n * (uint64, uint64) -> uint64\n * (float32, float32) -> float32\n * (float64, float64) -> float64\n * (complex64, complex64) -> complex64\n * (complex128, complex128) -> complex128\n * (uint64,) -> uint64\n * (uint16,) -> uint64\n * (uint8,) -> uint64\n * (uint32,) -> uint64\n * (int32,) -> int64\n * (int8,) -> int64\n * (int16,) -> int64\n * (int64,) -> int64\n * (float32,) -> float32\n * (float64,) -> float64\n * (complex64,) -> complex64\n * (complex128,) -> complex128\n * parameterized\nFile \"<ipython-input-1-13f4285e6146>\", line 9",
     "output_type": "error",
     "traceback": [
      "\u001b[1;31m---------------------------------------------------------------------------\u001b[0m",
      "\u001b[1;31mTypingError\u001b[0m                               Traceback (most recent call last)",
      "\u001b[1;32m<ipython-input-6-9d69b7d391be>\u001b[0m in \u001b[0;36m<module>\u001b[1;34m()\u001b[0m\n\u001b[1;32m----> 1\u001b[1;33m \u001b[0madd_nopython\u001b[0m\u001b[1;33m(\u001b[0m\u001b[1;34m\"A\"\u001b[0m\u001b[1;33m,\u001b[0m \u001b[1;34m\"B\"\u001b[0m\u001b[1;33m)\u001b[0m\u001b[1;33m\u001b[0m\u001b[0m\n\u001b[0m",
      "\u001b[1;32m/home/gmarkall/miniconda3/envs/pyconuk34/lib/python3.4/site-packages/numba/dispatcher.py\u001b[0m in \u001b[0;36m_compile_for_args\u001b[1;34m(self, *args, **kws)\u001b[0m\n\u001b[0;32m    169\u001b[0m         \u001b[1;32massert\u001b[0m \u001b[1;32mnot\u001b[0m \u001b[0mkws\u001b[0m\u001b[1;33m\u001b[0m\u001b[0m\n\u001b[0;32m    170\u001b[0m         \u001b[0msig\u001b[0m \u001b[1;33m=\u001b[0m \u001b[0mtuple\u001b[0m\u001b[1;33m(\u001b[0m\u001b[1;33m[\u001b[0m\u001b[0mself\u001b[0m\u001b[1;33m.\u001b[0m\u001b[0mtypeof_pyval\u001b[0m\u001b[1;33m(\u001b[0m\u001b[0ma\u001b[0m\u001b[1;33m)\u001b[0m \u001b[1;32mfor\u001b[0m \u001b[0ma\u001b[0m \u001b[1;32min\u001b[0m \u001b[0margs\u001b[0m\u001b[1;33m]\u001b[0m\u001b[1;33m)\u001b[0m\u001b[1;33m\u001b[0m\u001b[0m\n\u001b[1;32m--> 171\u001b[1;33m         \u001b[1;32mreturn\u001b[0m \u001b[0mself\u001b[0m\u001b[1;33m.\u001b[0m\u001b[0mcompile\u001b[0m\u001b[1;33m(\u001b[0m\u001b[0msig\u001b[0m\u001b[1;33m)\u001b[0m\u001b[1;33m\u001b[0m\u001b[0m\n\u001b[0m\u001b[0;32m    172\u001b[0m \u001b[1;33m\u001b[0m\u001b[0m\n\u001b[0;32m    173\u001b[0m     \u001b[1;32mdef\u001b[0m \u001b[0minspect_llvm\u001b[0m\u001b[1;33m(\u001b[0m\u001b[0mself\u001b[0m\u001b[1;33m,\u001b[0m \u001b[0msignature\u001b[0m\u001b[1;33m=\u001b[0m\u001b[1;32mNone\u001b[0m\u001b[1;33m)\u001b[0m\u001b[1;33m:\u001b[0m\u001b[1;33m\u001b[0m\u001b[0m\n",
      "\u001b[1;32m/home/gmarkall/miniconda3/envs/pyconuk34/lib/python3.4/site-packages/numba/dispatcher.py\u001b[0m in \u001b[0;36mcompile\u001b[1;34m(self, sig)\u001b[0m\n\u001b[0;32m    346\u001b[0m                                           \u001b[0mself\u001b[0m\u001b[1;33m.\u001b[0m\u001b[0mpy_func\u001b[0m\u001b[1;33m,\u001b[0m\u001b[1;33m\u001b[0m\u001b[0m\n\u001b[0;32m    347\u001b[0m                                           \u001b[0margs\u001b[0m\u001b[1;33m=\u001b[0m\u001b[0margs\u001b[0m\u001b[1;33m,\u001b[0m \u001b[0mreturn_type\u001b[0m\u001b[1;33m=\u001b[0m\u001b[0mreturn_type\u001b[0m\u001b[1;33m,\u001b[0m\u001b[1;33m\u001b[0m\u001b[0m\n\u001b[1;32m--> 348\u001b[1;33m                                           flags=flags, locals=self.locals)\n\u001b[0m\u001b[0;32m    349\u001b[0m \u001b[1;33m\u001b[0m\u001b[0m\n\u001b[0;32m    350\u001b[0m             \u001b[1;31m# Check typing error if object mode is used\u001b[0m\u001b[1;33m\u001b[0m\u001b[1;33m\u001b[0m\u001b[0m\n",
      "\u001b[1;32m/home/gmarkall/miniconda3/envs/pyconuk34/lib/python3.4/site-packages/numba/compiler.py\u001b[0m in \u001b[0;36mcompile_extra\u001b[1;34m(typingctx, targetctx, func, args, return_type, flags, locals, library)\u001b[0m\n\u001b[0;32m    635\u001b[0m     pipeline = Pipeline(typingctx, targetctx, library,\n\u001b[0;32m    636\u001b[0m                         args, return_type, flags, locals)\n\u001b[1;32m--> 637\u001b[1;33m     \u001b[1;32mreturn\u001b[0m \u001b[0mpipeline\u001b[0m\u001b[1;33m.\u001b[0m\u001b[0mcompile_extra\u001b[0m\u001b[1;33m(\u001b[0m\u001b[0mfunc\u001b[0m\u001b[1;33m)\u001b[0m\u001b[1;33m\u001b[0m\u001b[0m\n\u001b[0m\u001b[0;32m    638\u001b[0m \u001b[1;33m\u001b[0m\u001b[0m\n\u001b[0;32m    639\u001b[0m \u001b[1;33m\u001b[0m\u001b[0m\n",
      "\u001b[1;32m/home/gmarkall/miniconda3/envs/pyconuk34/lib/python3.4/site-packages/numba/compiler.py\u001b[0m in \u001b[0;36mcompile_extra\u001b[1;34m(self, func)\u001b[0m\n\u001b[0;32m    356\u001b[0m                 \u001b[1;32mraise\u001b[0m \u001b[0me\u001b[0m\u001b[1;33m\u001b[0m\u001b[0m\n\u001b[0;32m    357\u001b[0m \u001b[1;33m\u001b[0m\u001b[0m\n\u001b[1;32m--> 358\u001b[1;33m         \u001b[1;32mreturn\u001b[0m \u001b[0mself\u001b[0m\u001b[1;33m.\u001b[0m\u001b[0mcompile_bytecode\u001b[0m\u001b[1;33m(\u001b[0m\u001b[0mbc\u001b[0m\u001b[1;33m,\u001b[0m \u001b[0mfunc_attr\u001b[0m\u001b[1;33m=\u001b[0m\u001b[0mself\u001b[0m\u001b[1;33m.\u001b[0m\u001b[0mfunc_attr\u001b[0m\u001b[1;33m)\u001b[0m\u001b[1;33m\u001b[0m\u001b[0m\n\u001b[0m\u001b[0;32m    359\u001b[0m \u001b[1;33m\u001b[0m\u001b[0m\n\u001b[0;32m    360\u001b[0m     def compile_bytecode(self, bc, lifted=(), lifted_from=None,\n",
      "\u001b[1;32m/home/gmarkall/miniconda3/envs/pyconuk34/lib/python3.4/site-packages/numba/compiler.py\u001b[0m in \u001b[0;36mcompile_bytecode\u001b[1;34m(self, bc, lifted, lifted_from, func_attr)\u001b[0m\n\u001b[0;32m    365\u001b[0m         \u001b[0mself\u001b[0m\u001b[1;33m.\u001b[0m\u001b[0mlifted_from\u001b[0m \u001b[1;33m=\u001b[0m \u001b[0mlifted_from\u001b[0m\u001b[1;33m\u001b[0m\u001b[0m\n\u001b[0;32m    366\u001b[0m         \u001b[0mself\u001b[0m\u001b[1;33m.\u001b[0m\u001b[0mfunc_attr\u001b[0m \u001b[1;33m=\u001b[0m \u001b[0mfunc_attr\u001b[0m\u001b[1;33m\u001b[0m\u001b[0m\n\u001b[1;32m--> 367\u001b[1;33m         \u001b[1;32mreturn\u001b[0m \u001b[0mself\u001b[0m\u001b[1;33m.\u001b[0m\u001b[0m_compile_bytecode\u001b[0m\u001b[1;33m(\u001b[0m\u001b[1;33m)\u001b[0m\u001b[1;33m\u001b[0m\u001b[0m\n\u001b[0m\u001b[0;32m    368\u001b[0m \u001b[1;33m\u001b[0m\u001b[0m\n\u001b[0;32m    369\u001b[0m     \u001b[1;32mdef\u001b[0m \u001b[0mcompile_internal\u001b[0m\u001b[1;33m(\u001b[0m\u001b[0mself\u001b[0m\u001b[1;33m,\u001b[0m \u001b[0mbc\u001b[0m\u001b[1;33m,\u001b[0m \u001b[0mfunc_attr\u001b[0m\u001b[1;33m=\u001b[0m\u001b[0mDEFAULT_FUNCTION_ATTRIBUTES\u001b[0m\u001b[1;33m)\u001b[0m\u001b[1;33m:\u001b[0m\u001b[1;33m\u001b[0m\u001b[0m\n",
      "\u001b[1;32m/home/gmarkall/miniconda3/envs/pyconuk34/lib/python3.4/site-packages/numba/compiler.py\u001b[0m in \u001b[0;36m_compile_bytecode\u001b[1;34m(self)\u001b[0m\n\u001b[0;32m    622\u001b[0m \u001b[1;33m\u001b[0m\u001b[0m\n\u001b[0;32m    623\u001b[0m         \u001b[0mpm\u001b[0m\u001b[1;33m.\u001b[0m\u001b[0mfinalize\u001b[0m\u001b[1;33m(\u001b[0m\u001b[1;33m)\u001b[0m\u001b[1;33m\u001b[0m\u001b[0m\n\u001b[1;32m--> 624\u001b[1;33m         \u001b[1;32mreturn\u001b[0m \u001b[0mpm\u001b[0m\u001b[1;33m.\u001b[0m\u001b[0mrun\u001b[0m\u001b[1;33m(\u001b[0m\u001b[0mself\u001b[0m\u001b[1;33m.\u001b[0m\u001b[0mstatus\u001b[0m\u001b[1;33m)\u001b[0m\u001b[1;33m\u001b[0m\u001b[0m\n\u001b[0m\u001b[0;32m    625\u001b[0m \u001b[1;33m\u001b[0m\u001b[0m\n\u001b[0;32m    626\u001b[0m \u001b[1;33m\u001b[0m\u001b[0m\n",
      "\u001b[1;32m/home/gmarkall/miniconda3/envs/pyconuk34/lib/python3.4/site-packages/numba/compiler.py\u001b[0m in \u001b[0;36mrun\u001b[1;34m(self, status)\u001b[0m\n\u001b[0;32m    248\u001b[0m                     \u001b[1;31m# No more fallback pipelines?\u001b[0m\u001b[1;33m\u001b[0m\u001b[1;33m\u001b[0m\u001b[0m\n\u001b[0;32m    249\u001b[0m                     \u001b[1;32mif\u001b[0m \u001b[0mis_final_pipeline\u001b[0m\u001b[1;33m:\u001b[0m\u001b[1;33m\u001b[0m\u001b[0m\n\u001b[1;32m--> 250\u001b[1;33m                         \u001b[1;32mraise\u001b[0m \u001b[0mpatched_exception\u001b[0m\u001b[1;33m\u001b[0m\u001b[0m\n\u001b[0m\u001b[0;32m    251\u001b[0m                     \u001b[1;31m# Go to next fallback pipeline\u001b[0m\u001b[1;33m\u001b[0m\u001b[1;33m\u001b[0m\u001b[0m\n\u001b[0;32m    252\u001b[0m                     \u001b[1;32melse\u001b[0m\u001b[1;33m:\u001b[0m\u001b[1;33m\u001b[0m\u001b[0m\n",
      "\u001b[1;32m/home/gmarkall/miniconda3/envs/pyconuk34/lib/python3.4/site-packages/numba/compiler.py\u001b[0m in \u001b[0;36mrun\u001b[1;34m(self, status)\u001b[0m\n\u001b[0;32m    240\u001b[0m             \u001b[1;32mfor\u001b[0m \u001b[0mstage\u001b[0m\u001b[1;33m,\u001b[0m \u001b[0mstage_name\u001b[0m \u001b[1;32min\u001b[0m \u001b[0mself\u001b[0m\u001b[1;33m.\u001b[0m\u001b[0mpipeline_stages\u001b[0m\u001b[1;33m[\u001b[0m\u001b[0mpipeline_name\u001b[0m\u001b[1;33m]\u001b[0m\u001b[1;33m:\u001b[0m\u001b[1;33m\u001b[0m\u001b[0m\n\u001b[0;32m    241\u001b[0m                 \u001b[1;32mtry\u001b[0m\u001b[1;33m:\u001b[0m\u001b[1;33m\u001b[0m\u001b[0m\n\u001b[1;32m--> 242\u001b[1;33m                     \u001b[0mres\u001b[0m \u001b[1;33m=\u001b[0m \u001b[0mstage\u001b[0m\u001b[1;33m(\u001b[0m\u001b[1;33m)\u001b[0m\u001b[1;33m\u001b[0m\u001b[0m\n\u001b[0m\u001b[0;32m    243\u001b[0m                 \u001b[1;32mexcept\u001b[0m \u001b[0m_EarlyPipelineCompletion\u001b[0m \u001b[1;32mas\u001b[0m \u001b[0me\u001b[0m\u001b[1;33m:\u001b[0m\u001b[1;33m\u001b[0m\u001b[0m\n\u001b[0;32m    244\u001b[0m                     \u001b[1;32mreturn\u001b[0m \u001b[0me\u001b[0m\u001b[1;33m.\u001b[0m\u001b[0mresult\u001b[0m\u001b[1;33m\u001b[0m\u001b[0m\n",
      "\u001b[1;32m/home/gmarkall/miniconda3/envs/pyconuk34/lib/python3.4/site-packages/numba/compiler.py\u001b[0m in \u001b[0;36mstage_nopython_frontend\u001b[1;34m(self)\u001b[0m\n\u001b[0;32m    453\u001b[0m                 \u001b[0mself\u001b[0m\u001b[1;33m.\u001b[0m\u001b[0margs\u001b[0m\u001b[1;33m,\u001b[0m\u001b[1;33m\u001b[0m\u001b[0m\n\u001b[0;32m    454\u001b[0m                 \u001b[0mself\u001b[0m\u001b[1;33m.\u001b[0m\u001b[0mreturn_type\u001b[0m\u001b[1;33m,\u001b[0m\u001b[1;33m\u001b[0m\u001b[0m\n\u001b[1;32m--> 455\u001b[1;33m                 self.locals)\n\u001b[0m\u001b[0;32m    456\u001b[0m \u001b[1;33m\u001b[0m\u001b[0m\n\u001b[0;32m    457\u001b[0m         with self.fallback_context('Function \"%s\" has invalid return type'\n",
      "\u001b[1;32m/home/gmarkall/miniconda3/envs/pyconuk34/lib/python3.4/site-packages/numba/compiler.py\u001b[0m in \u001b[0;36mtype_inference_stage\u001b[1;34m(typingctx, interp, args, return_type, locals)\u001b[0m\n\u001b[0;32m    750\u001b[0m \u001b[1;33m\u001b[0m\u001b[0m\n\u001b[0;32m    751\u001b[0m     \u001b[0minfer\u001b[0m\u001b[1;33m.\u001b[0m\u001b[0mbuild_constraint\u001b[0m\u001b[1;33m(\u001b[0m\u001b[1;33m)\u001b[0m\u001b[1;33m\u001b[0m\u001b[0m\n\u001b[1;32m--> 752\u001b[1;33m     \u001b[0minfer\u001b[0m\u001b[1;33m.\u001b[0m\u001b[0mpropagate\u001b[0m\u001b[1;33m(\u001b[0m\u001b[1;33m)\u001b[0m\u001b[1;33m\u001b[0m\u001b[0m\n\u001b[0m\u001b[0;32m    753\u001b[0m     \u001b[0mtypemap\u001b[0m\u001b[1;33m,\u001b[0m \u001b[0mrestype\u001b[0m\u001b[1;33m,\u001b[0m \u001b[0mcalltypes\u001b[0m \u001b[1;33m=\u001b[0m \u001b[0minfer\u001b[0m\u001b[1;33m.\u001b[0m\u001b[0munify\u001b[0m\u001b[1;33m(\u001b[0m\u001b[1;33m)\u001b[0m\u001b[1;33m\u001b[0m\u001b[0m\n\u001b[0;32m    754\u001b[0m \u001b[1;33m\u001b[0m\u001b[0m\n",
      "\u001b[1;32m/home/gmarkall/miniconda3/envs/pyconuk34/lib/python3.4/site-packages/numba/typeinfer.py\u001b[0m in \u001b[0;36mpropagate\u001b[1;34m(self)\u001b[0m\n\u001b[0;32m    508\u001b[0m             \u001b[0mself\u001b[0m\u001b[1;33m.\u001b[0m\u001b[0mdebug\u001b[0m\u001b[1;33m.\u001b[0m\u001b[0mpropagate_finished\u001b[0m\u001b[1;33m(\u001b[0m\u001b[1;33m)\u001b[0m\u001b[1;33m\u001b[0m\u001b[0m\n\u001b[0;32m    509\u001b[0m         \u001b[1;32mif\u001b[0m \u001b[0merrors\u001b[0m\u001b[1;33m:\u001b[0m\u001b[1;33m\u001b[0m\u001b[0m\n\u001b[1;32m--> 510\u001b[1;33m             \u001b[1;32mraise\u001b[0m \u001b[0merrors\u001b[0m\u001b[1;33m[\u001b[0m\u001b[1;36m0\u001b[0m\u001b[1;33m]\u001b[0m\u001b[1;33m\u001b[0m\u001b[0m\n\u001b[0m\u001b[0;32m    511\u001b[0m \u001b[1;33m\u001b[0m\u001b[0m\n\u001b[0;32m    512\u001b[0m     \u001b[1;32mdef\u001b[0m \u001b[0madd_type\u001b[0m\u001b[1;33m(\u001b[0m\u001b[0mself\u001b[0m\u001b[1;33m,\u001b[0m \u001b[0mvar\u001b[0m\u001b[1;33m,\u001b[0m \u001b[0mtp\u001b[0m\u001b[1;33m,\u001b[0m \u001b[0munless_locked\u001b[0m\u001b[1;33m=\u001b[0m\u001b[1;32mFalse\u001b[0m\u001b[1;33m)\u001b[0m\u001b[1;33m:\u001b[0m\u001b[1;33m\u001b[0m\u001b[0m\n",
      "\u001b[1;32m/home/gmarkall/miniconda3/envs/pyconuk34/lib/python3.4/site-packages/numba/typeinfer.py\u001b[0m in \u001b[0;36mpropagate\u001b[1;34m(self, typeinfer)\u001b[0m\n\u001b[0;32m    109\u001b[0m         \u001b[1;32mfor\u001b[0m \u001b[0mconstraint\u001b[0m \u001b[1;32min\u001b[0m \u001b[0mself\u001b[0m\u001b[1;33m.\u001b[0m\u001b[0mconstraints\u001b[0m\u001b[1;33m:\u001b[0m\u001b[1;33m\u001b[0m\u001b[0m\n\u001b[0;32m    110\u001b[0m             \u001b[1;32mtry\u001b[0m\u001b[1;33m:\u001b[0m\u001b[1;33m\u001b[0m\u001b[0m\n\u001b[1;32m--> 111\u001b[1;33m                 \u001b[0mconstraint\u001b[0m\u001b[1;33m(\u001b[0m\u001b[0mtypeinfer\u001b[0m\u001b[1;33m)\u001b[0m\u001b[1;33m\u001b[0m\u001b[0m\n\u001b[0m\u001b[0;32m    112\u001b[0m             \u001b[1;32mexcept\u001b[0m \u001b[0mTypingError\u001b[0m \u001b[1;32mas\u001b[0m \u001b[0me\u001b[0m\u001b[1;33m:\u001b[0m\u001b[1;33m\u001b[0m\u001b[0m\n\u001b[0;32m    113\u001b[0m                 \u001b[0merrors\u001b[0m\u001b[1;33m.\u001b[0m\u001b[0mappend\u001b[0m\u001b[1;33m(\u001b[0m\u001b[0me\u001b[0m\u001b[1;33m)\u001b[0m\u001b[1;33m\u001b[0m\u001b[0m\n",
      "\u001b[1;32m/home/gmarkall/miniconda3/envs/pyconuk34/lib/python3.4/site-packages/numba/typeinfer.py\u001b[0m in \u001b[0;36m__call__\u001b[1;34m(self, typeinfer)\u001b[0m\n\u001b[0;32m    322\u001b[0m \u001b[1;32mclass\u001b[0m \u001b[0mIntrinsicCallConstraint\u001b[0m\u001b[1;33m(\u001b[0m\u001b[0mCallConstraint\u001b[0m\u001b[1;33m)\u001b[0m\u001b[1;33m:\u001b[0m\u001b[1;33m\u001b[0m\u001b[0m\n\u001b[0;32m    323\u001b[0m     \u001b[1;32mdef\u001b[0m \u001b[0m__call__\u001b[0m\u001b[1;33m(\u001b[0m\u001b[0mself\u001b[0m\u001b[1;33m,\u001b[0m \u001b[0mtypeinfer\u001b[0m\u001b[1;33m)\u001b[0m\u001b[1;33m:\u001b[0m\u001b[1;33m\u001b[0m\u001b[0m\n\u001b[1;32m--> 324\u001b[1;33m         \u001b[0mself\u001b[0m\u001b[1;33m.\u001b[0m\u001b[0mresolve\u001b[0m\u001b[1;33m(\u001b[0m\u001b[0mtypeinfer\u001b[0m\u001b[1;33m,\u001b[0m \u001b[0mtypeinfer\u001b[0m\u001b[1;33m.\u001b[0m\u001b[0mtypevars\u001b[0m\u001b[1;33m,\u001b[0m \u001b[0mfnty\u001b[0m\u001b[1;33m=\u001b[0m\u001b[0mself\u001b[0m\u001b[1;33m.\u001b[0m\u001b[0mfunc\u001b[0m\u001b[1;33m)\u001b[0m\u001b[1;33m\u001b[0m\u001b[0m\n\u001b[0m\u001b[0;32m    325\u001b[0m \u001b[1;33m\u001b[0m\u001b[0m\n\u001b[0;32m    326\u001b[0m \u001b[1;33m\u001b[0m\u001b[0m\n",
      "\u001b[1;32m/home/gmarkall/miniconda3/envs/pyconuk34/lib/python3.4/site-packages/numba/typeinfer.py\u001b[0m in \u001b[0;36mresolve\u001b[1;34m(self, typeinfer, typevars, fnty)\u001b[0m\n\u001b[0;32m    301\u001b[0m             \u001b[0mhead\u001b[0m \u001b[1;33m=\u001b[0m \u001b[0mheadtemp\u001b[0m\u001b[1;33m.\u001b[0m\u001b[0mformat\u001b[0m\u001b[1;33m(\u001b[0m\u001b[0mfnty\u001b[0m\u001b[1;33m,\u001b[0m \u001b[1;34m', '\u001b[0m\u001b[1;33m.\u001b[0m\u001b[0mjoin\u001b[0m\u001b[1;33m(\u001b[0m\u001b[0mmap\u001b[0m\u001b[1;33m(\u001b[0m\u001b[0mstr\u001b[0m\u001b[1;33m,\u001b[0m \u001b[0margs\u001b[0m\u001b[1;33m)\u001b[0m\u001b[1;33m)\u001b[0m\u001b[1;33m)\u001b[0m\u001b[1;33m\u001b[0m\u001b[0m\n\u001b[0;32m    302\u001b[0m             \u001b[0mmsg\u001b[0m \u001b[1;33m=\u001b[0m \u001b[1;34m'\\n'\u001b[0m\u001b[1;33m.\u001b[0m\u001b[0mjoin\u001b[0m\u001b[1;33m(\u001b[0m\u001b[1;33m[\u001b[0m\u001b[0mhead\u001b[0m\u001b[1;33m,\u001b[0m \u001b[0mdesc\u001b[0m\u001b[1;33m]\u001b[0m\u001b[1;33m)\u001b[0m\u001b[1;33m\u001b[0m\u001b[0m\n\u001b[1;32m--> 303\u001b[1;33m             \u001b[1;32mraise\u001b[0m \u001b[0mTypingError\u001b[0m\u001b[1;33m(\u001b[0m\u001b[0mmsg\u001b[0m\u001b[1;33m,\u001b[0m \u001b[0mloc\u001b[0m\u001b[1;33m=\u001b[0m\u001b[0mself\u001b[0m\u001b[1;33m.\u001b[0m\u001b[0mloc\u001b[0m\u001b[1;33m)\u001b[0m\u001b[1;33m\u001b[0m\u001b[0m\n\u001b[0m\u001b[0;32m    304\u001b[0m         \u001b[0mtypeinfer\u001b[0m\u001b[1;33m.\u001b[0m\u001b[0madd_type\u001b[0m\u001b[1;33m(\u001b[0m\u001b[0mself\u001b[0m\u001b[1;33m.\u001b[0m\u001b[0mtarget\u001b[0m\u001b[1;33m,\u001b[0m \u001b[0msig\u001b[0m\u001b[1;33m.\u001b[0m\u001b[0mreturn_type\u001b[0m\u001b[1;33m)\u001b[0m\u001b[1;33m\u001b[0m\u001b[0m\n\u001b[0;32m    305\u001b[0m         \u001b[1;31m# If the function is a bound function and its receiver type\u001b[0m\u001b[1;33m\u001b[0m\u001b[1;33m\u001b[0m\u001b[0m\n",
      "\u001b[1;31mTypingError\u001b[0m: Failed at nopython (nopython frontend)\nInvalid usage of + with parameters (str, str)\nKnown signatures:\n * (int64, int64) -> int64\n * (int64, uint64) -> int64\n * (uint64, int64) -> int64\n * (uint64, uint64) -> uint64\n * (float32, float32) -> float32\n * (float64, float64) -> float64\n * (complex64, complex64) -> complex64\n * (complex128, complex128) -> complex128\n * (uint64,) -> uint64\n * (uint16,) -> uint64\n * (uint8,) -> uint64\n * (uint32,) -> uint64\n * (int32,) -> int64\n * (int8,) -> int64\n * (int16,) -> int64\n * (int64,) -> int64\n * (float32,) -> float32\n * (float64,) -> float64\n * (complex64,) -> complex64\n * (complex128,) -> complex128\n * parameterized\nFile \"<ipython-input-1-13f4285e6146>\", line 9"
     ]
    }
   ],
   "source": [
    "add_nopython(\"A\", \"B\")"
   ]
  },
  {
   "cell_type": "markdown",
   "metadata": {},
   "source": [
    "Strings are not supported in nopython mode, resulting in the error. The add_nopython function does work for supported types:"
   ]
  },
  {
   "cell_type": "code",
   "execution_count": 7,
   "metadata": {
    "collapsed": false
   },
   "outputs": [
    {
     "data": {
      "text/plain": [
       "3"
      ]
     },
     "execution_count": 7,
     "metadata": {},
     "output_type": "execute_result"
    }
   ],
   "source": [
    "add_nopython(1, 2)"
   ]
  },
  {
   "cell_type": "markdown",
   "metadata": {},
   "source": [
    "## Unification\n",
    "\n",
    "Not only must all types be resolved to a supported type when using nopython mode, all types must also unify to a single supported type at the time of compilation. For example:"
   ]
  },
  {
   "cell_type": "code",
   "execution_count": 8,
   "metadata": {
    "collapsed": false
   },
   "outputs": [
    {
     "ename": "TypingError",
     "evalue": "Failed at nopython (nopython frontend)\ncannot unify int64 and (int64 x 2) for 'x'",
     "output_type": "error",
     "traceback": [
      "\u001b[1;31m---------------------------------------------------------------------------\u001b[0m",
      "\u001b[1;31mTypingError\u001b[0m                               Traceback (most recent call last)",
      "\u001b[1;32m<ipython-input-8-a4b02ccefd5b>\u001b[0m in \u001b[0;36m<module>\u001b[1;34m()\u001b[0m\n\u001b[0;32m      7\u001b[0m     \u001b[1;32mreturn\u001b[0m \u001b[0mx\u001b[0m\u001b[1;33m\u001b[0m\u001b[0m\n\u001b[0;32m      8\u001b[0m \u001b[1;33m\u001b[0m\u001b[0m\n\u001b[1;32m----> 9\u001b[1;33m \u001b[0mselect\u001b[0m\u001b[1;33m(\u001b[0m\u001b[1;36m1\u001b[0m\u001b[1;33m,\u001b[0m \u001b[1;33m(\u001b[0m\u001b[1;36m1\u001b[0m\u001b[1;33m,\u001b[0m \u001b[1;36m2\u001b[0m\u001b[1;33m)\u001b[0m\u001b[1;33m,\u001b[0m \u001b[1;32mTrue\u001b[0m\u001b[1;33m)\u001b[0m\u001b[1;33m\u001b[0m\u001b[0m\n\u001b[0m",
      "\u001b[1;32m/home/gmarkall/miniconda3/envs/pyconuk34/lib/python3.4/site-packages/numba/dispatcher.py\u001b[0m in \u001b[0;36m_compile_for_args\u001b[1;34m(self, *args, **kws)\u001b[0m\n\u001b[0;32m    169\u001b[0m         \u001b[1;32massert\u001b[0m \u001b[1;32mnot\u001b[0m \u001b[0mkws\u001b[0m\u001b[1;33m\u001b[0m\u001b[0m\n\u001b[0;32m    170\u001b[0m         \u001b[0msig\u001b[0m \u001b[1;33m=\u001b[0m \u001b[0mtuple\u001b[0m\u001b[1;33m(\u001b[0m\u001b[1;33m[\u001b[0m\u001b[0mself\u001b[0m\u001b[1;33m.\u001b[0m\u001b[0mtypeof_pyval\u001b[0m\u001b[1;33m(\u001b[0m\u001b[0ma\u001b[0m\u001b[1;33m)\u001b[0m \u001b[1;32mfor\u001b[0m \u001b[0ma\u001b[0m \u001b[1;32min\u001b[0m \u001b[0margs\u001b[0m\u001b[1;33m]\u001b[0m\u001b[1;33m)\u001b[0m\u001b[1;33m\u001b[0m\u001b[0m\n\u001b[1;32m--> 171\u001b[1;33m         \u001b[1;32mreturn\u001b[0m \u001b[0mself\u001b[0m\u001b[1;33m.\u001b[0m\u001b[0mcompile\u001b[0m\u001b[1;33m(\u001b[0m\u001b[0msig\u001b[0m\u001b[1;33m)\u001b[0m\u001b[1;33m\u001b[0m\u001b[0m\n\u001b[0m\u001b[0;32m    172\u001b[0m \u001b[1;33m\u001b[0m\u001b[0m\n\u001b[0;32m    173\u001b[0m     \u001b[1;32mdef\u001b[0m \u001b[0minspect_llvm\u001b[0m\u001b[1;33m(\u001b[0m\u001b[0mself\u001b[0m\u001b[1;33m,\u001b[0m \u001b[0msignature\u001b[0m\u001b[1;33m=\u001b[0m\u001b[1;32mNone\u001b[0m\u001b[1;33m)\u001b[0m\u001b[1;33m:\u001b[0m\u001b[1;33m\u001b[0m\u001b[0m\n",
      "\u001b[1;32m/home/gmarkall/miniconda3/envs/pyconuk34/lib/python3.4/site-packages/numba/dispatcher.py\u001b[0m in \u001b[0;36mcompile\u001b[1;34m(self, sig)\u001b[0m\n\u001b[0;32m    346\u001b[0m                                           \u001b[0mself\u001b[0m\u001b[1;33m.\u001b[0m\u001b[0mpy_func\u001b[0m\u001b[1;33m,\u001b[0m\u001b[1;33m\u001b[0m\u001b[0m\n\u001b[0;32m    347\u001b[0m                                           \u001b[0margs\u001b[0m\u001b[1;33m=\u001b[0m\u001b[0margs\u001b[0m\u001b[1;33m,\u001b[0m \u001b[0mreturn_type\u001b[0m\u001b[1;33m=\u001b[0m\u001b[0mreturn_type\u001b[0m\u001b[1;33m,\u001b[0m\u001b[1;33m\u001b[0m\u001b[0m\n\u001b[1;32m--> 348\u001b[1;33m                                           flags=flags, locals=self.locals)\n\u001b[0m\u001b[0;32m    349\u001b[0m \u001b[1;33m\u001b[0m\u001b[0m\n\u001b[0;32m    350\u001b[0m             \u001b[1;31m# Check typing error if object mode is used\u001b[0m\u001b[1;33m\u001b[0m\u001b[1;33m\u001b[0m\u001b[0m\n",
      "\u001b[1;32m/home/gmarkall/miniconda3/envs/pyconuk34/lib/python3.4/site-packages/numba/compiler.py\u001b[0m in \u001b[0;36mcompile_extra\u001b[1;34m(typingctx, targetctx, func, args, return_type, flags, locals, library)\u001b[0m\n\u001b[0;32m    635\u001b[0m     pipeline = Pipeline(typingctx, targetctx, library,\n\u001b[0;32m    636\u001b[0m                         args, return_type, flags, locals)\n\u001b[1;32m--> 637\u001b[1;33m     \u001b[1;32mreturn\u001b[0m \u001b[0mpipeline\u001b[0m\u001b[1;33m.\u001b[0m\u001b[0mcompile_extra\u001b[0m\u001b[1;33m(\u001b[0m\u001b[0mfunc\u001b[0m\u001b[1;33m)\u001b[0m\u001b[1;33m\u001b[0m\u001b[0m\n\u001b[0m\u001b[0;32m    638\u001b[0m \u001b[1;33m\u001b[0m\u001b[0m\n\u001b[0;32m    639\u001b[0m \u001b[1;33m\u001b[0m\u001b[0m\n",
      "\u001b[1;32m/home/gmarkall/miniconda3/envs/pyconuk34/lib/python3.4/site-packages/numba/compiler.py\u001b[0m in \u001b[0;36mcompile_extra\u001b[1;34m(self, func)\u001b[0m\n\u001b[0;32m    356\u001b[0m                 \u001b[1;32mraise\u001b[0m \u001b[0me\u001b[0m\u001b[1;33m\u001b[0m\u001b[0m\n\u001b[0;32m    357\u001b[0m \u001b[1;33m\u001b[0m\u001b[0m\n\u001b[1;32m--> 358\u001b[1;33m         \u001b[1;32mreturn\u001b[0m \u001b[0mself\u001b[0m\u001b[1;33m.\u001b[0m\u001b[0mcompile_bytecode\u001b[0m\u001b[1;33m(\u001b[0m\u001b[0mbc\u001b[0m\u001b[1;33m,\u001b[0m \u001b[0mfunc_attr\u001b[0m\u001b[1;33m=\u001b[0m\u001b[0mself\u001b[0m\u001b[1;33m.\u001b[0m\u001b[0mfunc_attr\u001b[0m\u001b[1;33m)\u001b[0m\u001b[1;33m\u001b[0m\u001b[0m\n\u001b[0m\u001b[0;32m    359\u001b[0m \u001b[1;33m\u001b[0m\u001b[0m\n\u001b[0;32m    360\u001b[0m     def compile_bytecode(self, bc, lifted=(), lifted_from=None,\n",
      "\u001b[1;32m/home/gmarkall/miniconda3/envs/pyconuk34/lib/python3.4/site-packages/numba/compiler.py\u001b[0m in \u001b[0;36mcompile_bytecode\u001b[1;34m(self, bc, lifted, lifted_from, func_attr)\u001b[0m\n\u001b[0;32m    365\u001b[0m         \u001b[0mself\u001b[0m\u001b[1;33m.\u001b[0m\u001b[0mlifted_from\u001b[0m \u001b[1;33m=\u001b[0m \u001b[0mlifted_from\u001b[0m\u001b[1;33m\u001b[0m\u001b[0m\n\u001b[0;32m    366\u001b[0m         \u001b[0mself\u001b[0m\u001b[1;33m.\u001b[0m\u001b[0mfunc_attr\u001b[0m \u001b[1;33m=\u001b[0m \u001b[0mfunc_attr\u001b[0m\u001b[1;33m\u001b[0m\u001b[0m\n\u001b[1;32m--> 367\u001b[1;33m         \u001b[1;32mreturn\u001b[0m \u001b[0mself\u001b[0m\u001b[1;33m.\u001b[0m\u001b[0m_compile_bytecode\u001b[0m\u001b[1;33m(\u001b[0m\u001b[1;33m)\u001b[0m\u001b[1;33m\u001b[0m\u001b[0m\n\u001b[0m\u001b[0;32m    368\u001b[0m \u001b[1;33m\u001b[0m\u001b[0m\n\u001b[0;32m    369\u001b[0m     \u001b[1;32mdef\u001b[0m \u001b[0mcompile_internal\u001b[0m\u001b[1;33m(\u001b[0m\u001b[0mself\u001b[0m\u001b[1;33m,\u001b[0m \u001b[0mbc\u001b[0m\u001b[1;33m,\u001b[0m \u001b[0mfunc_attr\u001b[0m\u001b[1;33m=\u001b[0m\u001b[0mDEFAULT_FUNCTION_ATTRIBUTES\u001b[0m\u001b[1;33m)\u001b[0m\u001b[1;33m:\u001b[0m\u001b[1;33m\u001b[0m\u001b[0m\n",
      "\u001b[1;32m/home/gmarkall/miniconda3/envs/pyconuk34/lib/python3.4/site-packages/numba/compiler.py\u001b[0m in \u001b[0;36m_compile_bytecode\u001b[1;34m(self)\u001b[0m\n\u001b[0;32m    622\u001b[0m \u001b[1;33m\u001b[0m\u001b[0m\n\u001b[0;32m    623\u001b[0m         \u001b[0mpm\u001b[0m\u001b[1;33m.\u001b[0m\u001b[0mfinalize\u001b[0m\u001b[1;33m(\u001b[0m\u001b[1;33m)\u001b[0m\u001b[1;33m\u001b[0m\u001b[0m\n\u001b[1;32m--> 624\u001b[1;33m         \u001b[1;32mreturn\u001b[0m \u001b[0mpm\u001b[0m\u001b[1;33m.\u001b[0m\u001b[0mrun\u001b[0m\u001b[1;33m(\u001b[0m\u001b[0mself\u001b[0m\u001b[1;33m.\u001b[0m\u001b[0mstatus\u001b[0m\u001b[1;33m)\u001b[0m\u001b[1;33m\u001b[0m\u001b[0m\n\u001b[0m\u001b[0;32m    625\u001b[0m \u001b[1;33m\u001b[0m\u001b[0m\n\u001b[0;32m    626\u001b[0m \u001b[1;33m\u001b[0m\u001b[0m\n",
      "\u001b[1;32m/home/gmarkall/miniconda3/envs/pyconuk34/lib/python3.4/site-packages/numba/compiler.py\u001b[0m in \u001b[0;36mrun\u001b[1;34m(self, status)\u001b[0m\n\u001b[0;32m    248\u001b[0m                     \u001b[1;31m# No more fallback pipelines?\u001b[0m\u001b[1;33m\u001b[0m\u001b[1;33m\u001b[0m\u001b[0m\n\u001b[0;32m    249\u001b[0m                     \u001b[1;32mif\u001b[0m \u001b[0mis_final_pipeline\u001b[0m\u001b[1;33m:\u001b[0m\u001b[1;33m\u001b[0m\u001b[0m\n\u001b[1;32m--> 250\u001b[1;33m                         \u001b[1;32mraise\u001b[0m \u001b[0mpatched_exception\u001b[0m\u001b[1;33m\u001b[0m\u001b[0m\n\u001b[0m\u001b[0;32m    251\u001b[0m                     \u001b[1;31m# Go to next fallback pipeline\u001b[0m\u001b[1;33m\u001b[0m\u001b[1;33m\u001b[0m\u001b[0m\n\u001b[0;32m    252\u001b[0m                     \u001b[1;32melse\u001b[0m\u001b[1;33m:\u001b[0m\u001b[1;33m\u001b[0m\u001b[0m\n",
      "\u001b[1;32m/home/gmarkall/miniconda3/envs/pyconuk34/lib/python3.4/site-packages/numba/compiler.py\u001b[0m in \u001b[0;36mrun\u001b[1;34m(self, status)\u001b[0m\n\u001b[0;32m    240\u001b[0m             \u001b[1;32mfor\u001b[0m \u001b[0mstage\u001b[0m\u001b[1;33m,\u001b[0m \u001b[0mstage_name\u001b[0m \u001b[1;32min\u001b[0m \u001b[0mself\u001b[0m\u001b[1;33m.\u001b[0m\u001b[0mpipeline_stages\u001b[0m\u001b[1;33m[\u001b[0m\u001b[0mpipeline_name\u001b[0m\u001b[1;33m]\u001b[0m\u001b[1;33m:\u001b[0m\u001b[1;33m\u001b[0m\u001b[0m\n\u001b[0;32m    241\u001b[0m                 \u001b[1;32mtry\u001b[0m\u001b[1;33m:\u001b[0m\u001b[1;33m\u001b[0m\u001b[0m\n\u001b[1;32m--> 242\u001b[1;33m                     \u001b[0mres\u001b[0m \u001b[1;33m=\u001b[0m \u001b[0mstage\u001b[0m\u001b[1;33m(\u001b[0m\u001b[1;33m)\u001b[0m\u001b[1;33m\u001b[0m\u001b[0m\n\u001b[0m\u001b[0;32m    243\u001b[0m                 \u001b[1;32mexcept\u001b[0m \u001b[0m_EarlyPipelineCompletion\u001b[0m \u001b[1;32mas\u001b[0m \u001b[0me\u001b[0m\u001b[1;33m:\u001b[0m\u001b[1;33m\u001b[0m\u001b[0m\n\u001b[0;32m    244\u001b[0m                     \u001b[1;32mreturn\u001b[0m \u001b[0me\u001b[0m\u001b[1;33m.\u001b[0m\u001b[0mresult\u001b[0m\u001b[1;33m\u001b[0m\u001b[0m\n",
      "\u001b[1;32m/home/gmarkall/miniconda3/envs/pyconuk34/lib/python3.4/site-packages/numba/compiler.py\u001b[0m in \u001b[0;36mstage_nopython_frontend\u001b[1;34m(self)\u001b[0m\n\u001b[0;32m    453\u001b[0m                 \u001b[0mself\u001b[0m\u001b[1;33m.\u001b[0m\u001b[0margs\u001b[0m\u001b[1;33m,\u001b[0m\u001b[1;33m\u001b[0m\u001b[0m\n\u001b[0;32m    454\u001b[0m                 \u001b[0mself\u001b[0m\u001b[1;33m.\u001b[0m\u001b[0mreturn_type\u001b[0m\u001b[1;33m,\u001b[0m\u001b[1;33m\u001b[0m\u001b[0m\n\u001b[1;32m--> 455\u001b[1;33m                 self.locals)\n\u001b[0m\u001b[0;32m    456\u001b[0m \u001b[1;33m\u001b[0m\u001b[0m\n\u001b[0;32m    457\u001b[0m         with self.fallback_context('Function \"%s\" has invalid return type'\n",
      "\u001b[1;32m/home/gmarkall/miniconda3/envs/pyconuk34/lib/python3.4/site-packages/numba/compiler.py\u001b[0m in \u001b[0;36mtype_inference_stage\u001b[1;34m(typingctx, interp, args, return_type, locals)\u001b[0m\n\u001b[0;32m    750\u001b[0m \u001b[1;33m\u001b[0m\u001b[0m\n\u001b[0;32m    751\u001b[0m     \u001b[0minfer\u001b[0m\u001b[1;33m.\u001b[0m\u001b[0mbuild_constraint\u001b[0m\u001b[1;33m(\u001b[0m\u001b[1;33m)\u001b[0m\u001b[1;33m\u001b[0m\u001b[0m\n\u001b[1;32m--> 752\u001b[1;33m     \u001b[0minfer\u001b[0m\u001b[1;33m.\u001b[0m\u001b[0mpropagate\u001b[0m\u001b[1;33m(\u001b[0m\u001b[1;33m)\u001b[0m\u001b[1;33m\u001b[0m\u001b[0m\n\u001b[0m\u001b[0;32m    753\u001b[0m     \u001b[0mtypemap\u001b[0m\u001b[1;33m,\u001b[0m \u001b[0mrestype\u001b[0m\u001b[1;33m,\u001b[0m \u001b[0mcalltypes\u001b[0m \u001b[1;33m=\u001b[0m \u001b[0minfer\u001b[0m\u001b[1;33m.\u001b[0m\u001b[0munify\u001b[0m\u001b[1;33m(\u001b[0m\u001b[1;33m)\u001b[0m\u001b[1;33m\u001b[0m\u001b[0m\n\u001b[0;32m    754\u001b[0m \u001b[1;33m\u001b[0m\u001b[0m\n",
      "\u001b[1;32m/home/gmarkall/miniconda3/envs/pyconuk34/lib/python3.4/site-packages/numba/typeinfer.py\u001b[0m in \u001b[0;36mpropagate\u001b[1;34m(self)\u001b[0m\n\u001b[0;32m    508\u001b[0m             \u001b[0mself\u001b[0m\u001b[1;33m.\u001b[0m\u001b[0mdebug\u001b[0m\u001b[1;33m.\u001b[0m\u001b[0mpropagate_finished\u001b[0m\u001b[1;33m(\u001b[0m\u001b[1;33m)\u001b[0m\u001b[1;33m\u001b[0m\u001b[0m\n\u001b[0;32m    509\u001b[0m         \u001b[1;32mif\u001b[0m \u001b[0merrors\u001b[0m\u001b[1;33m:\u001b[0m\u001b[1;33m\u001b[0m\u001b[0m\n\u001b[1;32m--> 510\u001b[1;33m             \u001b[1;32mraise\u001b[0m \u001b[0merrors\u001b[0m\u001b[1;33m[\u001b[0m\u001b[1;36m0\u001b[0m\u001b[1;33m]\u001b[0m\u001b[1;33m\u001b[0m\u001b[0m\n\u001b[0m\u001b[0;32m    511\u001b[0m \u001b[1;33m\u001b[0m\u001b[0m\n\u001b[0;32m    512\u001b[0m     \u001b[1;32mdef\u001b[0m \u001b[0madd_type\u001b[0m\u001b[1;33m(\u001b[0m\u001b[0mself\u001b[0m\u001b[1;33m,\u001b[0m \u001b[0mvar\u001b[0m\u001b[1;33m,\u001b[0m \u001b[0mtp\u001b[0m\u001b[1;33m,\u001b[0m \u001b[0munless_locked\u001b[0m\u001b[1;33m=\u001b[0m\u001b[1;32mFalse\u001b[0m\u001b[1;33m)\u001b[0m\u001b[1;33m:\u001b[0m\u001b[1;33m\u001b[0m\u001b[0m\n",
      "\u001b[1;32m/home/gmarkall/miniconda3/envs/pyconuk34/lib/python3.4/site-packages/numba/typeinfer.py\u001b[0m in \u001b[0;36mpropagate\u001b[1;34m(self, typeinfer)\u001b[0m\n\u001b[0;32m    109\u001b[0m         \u001b[1;32mfor\u001b[0m \u001b[0mconstraint\u001b[0m \u001b[1;32min\u001b[0m \u001b[0mself\u001b[0m\u001b[1;33m.\u001b[0m\u001b[0mconstraints\u001b[0m\u001b[1;33m:\u001b[0m\u001b[1;33m\u001b[0m\u001b[0m\n\u001b[0;32m    110\u001b[0m             \u001b[1;32mtry\u001b[0m\u001b[1;33m:\u001b[0m\u001b[1;33m\u001b[0m\u001b[0m\n\u001b[1;32m--> 111\u001b[1;33m                 \u001b[0mconstraint\u001b[0m\u001b[1;33m(\u001b[0m\u001b[0mtypeinfer\u001b[0m\u001b[1;33m)\u001b[0m\u001b[1;33m\u001b[0m\u001b[0m\n\u001b[0m\u001b[0;32m    112\u001b[0m             \u001b[1;32mexcept\u001b[0m \u001b[0mTypingError\u001b[0m \u001b[1;32mas\u001b[0m \u001b[0me\u001b[0m\u001b[1;33m:\u001b[0m\u001b[1;33m\u001b[0m\u001b[0m\n\u001b[0;32m    113\u001b[0m                 \u001b[0merrors\u001b[0m\u001b[1;33m.\u001b[0m\u001b[0mappend\u001b[0m\u001b[1;33m(\u001b[0m\u001b[0me\u001b[0m\u001b[1;33m)\u001b[0m\u001b[1;33m\u001b[0m\u001b[0m\n",
      "\u001b[1;32m/home/gmarkall/miniconda3/envs/pyconuk34/lib/python3.4/site-packages/numba/typeinfer.py\u001b[0m in \u001b[0;36m__call__\u001b[1;34m(self, typeinfer)\u001b[0m\n\u001b[0;32m    134\u001b[0m     \u001b[1;32mdef\u001b[0m \u001b[0m__call__\u001b[0m\u001b[1;33m(\u001b[0m\u001b[0mself\u001b[0m\u001b[1;33m,\u001b[0m \u001b[0mtypeinfer\u001b[0m\u001b[1;33m)\u001b[0m\u001b[1;33m:\u001b[0m\u001b[1;33m\u001b[0m\u001b[0m\n\u001b[0;32m    135\u001b[0m         \u001b[0mtypevars\u001b[0m \u001b[1;33m=\u001b[0m \u001b[0mtypeinfer\u001b[0m\u001b[1;33m.\u001b[0m\u001b[0mtypevars\u001b[0m\u001b[1;33m\u001b[0m\u001b[0m\n\u001b[1;32m--> 136\u001b[1;33m         \u001b[0mtypeinfer\u001b[0m\u001b[1;33m.\u001b[0m\u001b[0mcopy_type\u001b[0m\u001b[1;33m(\u001b[0m\u001b[0mself\u001b[0m\u001b[1;33m.\u001b[0m\u001b[0msrc\u001b[0m\u001b[1;33m,\u001b[0m \u001b[0mself\u001b[0m\u001b[1;33m.\u001b[0m\u001b[0mdst\u001b[0m\u001b[1;33m)\u001b[0m\u001b[1;33m\u001b[0m\u001b[0m\n\u001b[0m\u001b[0;32m    137\u001b[0m         \u001b[1;31m# If `dst` is refined, notify us\u001b[0m\u001b[1;33m\u001b[0m\u001b[1;33m\u001b[0m\u001b[0m\n\u001b[0;32m    138\u001b[0m         \u001b[0mtypeinfer\u001b[0m\u001b[1;33m.\u001b[0m\u001b[0mrefine_map\u001b[0m\u001b[1;33m[\u001b[0m\u001b[0mself\u001b[0m\u001b[1;33m.\u001b[0m\u001b[0mdst\u001b[0m\u001b[1;33m]\u001b[0m \u001b[1;33m=\u001b[0m \u001b[0mself\u001b[0m\u001b[1;33m\u001b[0m\u001b[0m\n",
      "\u001b[1;32m/home/gmarkall/miniconda3/envs/pyconuk34/lib/python3.4/site-packages/numba/typeinfer.py\u001b[0m in \u001b[0;36mcopy_type\u001b[1;34m(self, src_var, dest_var)\u001b[0m\n\u001b[0;32m    519\u001b[0m \u001b[1;33m\u001b[0m\u001b[0m\n\u001b[0;32m    520\u001b[0m     \u001b[1;32mdef\u001b[0m \u001b[0mcopy_type\u001b[0m\u001b[1;33m(\u001b[0m\u001b[0mself\u001b[0m\u001b[1;33m,\u001b[0m \u001b[0msrc_var\u001b[0m\u001b[1;33m,\u001b[0m \u001b[0mdest_var\u001b[0m\u001b[1;33m)\u001b[0m\u001b[1;33m:\u001b[0m\u001b[1;33m\u001b[0m\u001b[0m\n\u001b[1;32m--> 521\u001b[1;33m         \u001b[0munified\u001b[0m \u001b[1;33m=\u001b[0m \u001b[0mself\u001b[0m\u001b[1;33m.\u001b[0m\u001b[0mtypevars\u001b[0m\u001b[1;33m[\u001b[0m\u001b[0mdest_var\u001b[0m\u001b[1;33m]\u001b[0m\u001b[1;33m.\u001b[0m\u001b[0munion\u001b[0m\u001b[1;33m(\u001b[0m\u001b[0mself\u001b[0m\u001b[1;33m.\u001b[0m\u001b[0mtypevars\u001b[0m\u001b[1;33m[\u001b[0m\u001b[0msrc_var\u001b[0m\u001b[1;33m]\u001b[0m\u001b[1;33m)\u001b[0m\u001b[1;33m\u001b[0m\u001b[0m\n\u001b[0m\u001b[0;32m    522\u001b[0m \u001b[1;33m\u001b[0m\u001b[0m\n\u001b[0;32m    523\u001b[0m     \u001b[1;32mdef\u001b[0m \u001b[0mlock_type\u001b[0m\u001b[1;33m(\u001b[0m\u001b[0mself\u001b[0m\u001b[1;33m,\u001b[0m \u001b[0mvar\u001b[0m\u001b[1;33m,\u001b[0m \u001b[0mtp\u001b[0m\u001b[1;33m)\u001b[0m\u001b[1;33m:\u001b[0m\u001b[1;33m\u001b[0m\u001b[0m\n",
      "\u001b[1;32m/home/gmarkall/miniconda3/envs/pyconuk34/lib/python3.4/site-packages/numba/typeinfer.py\u001b[0m in \u001b[0;36munion\u001b[1;34m(self, other)\u001b[0m\n\u001b[0;32m     66\u001b[0m     \u001b[1;32mdef\u001b[0m \u001b[0munion\u001b[0m\u001b[1;33m(\u001b[0m\u001b[0mself\u001b[0m\u001b[1;33m,\u001b[0m \u001b[0mother\u001b[0m\u001b[1;33m)\u001b[0m\u001b[1;33m:\u001b[0m\u001b[1;33m\u001b[0m\u001b[0m\n\u001b[0;32m     67\u001b[0m         \u001b[1;32mif\u001b[0m \u001b[0mother\u001b[0m\u001b[1;33m.\u001b[0m\u001b[0mtype\u001b[0m \u001b[1;32mis\u001b[0m \u001b[1;32mnot\u001b[0m \u001b[1;32mNone\u001b[0m\u001b[1;33m:\u001b[0m\u001b[1;33m\u001b[0m\u001b[0m\n\u001b[1;32m---> 68\u001b[1;33m             \u001b[0mself\u001b[0m\u001b[1;33m.\u001b[0m\u001b[0madd_type\u001b[0m\u001b[1;33m(\u001b[0m\u001b[0mother\u001b[0m\u001b[1;33m.\u001b[0m\u001b[0mtype\u001b[0m\u001b[1;33m)\u001b[0m\u001b[1;33m\u001b[0m\u001b[0m\n\u001b[0m\u001b[0;32m     69\u001b[0m \u001b[1;33m\u001b[0m\u001b[0m\n\u001b[0;32m     70\u001b[0m         \u001b[1;32mreturn\u001b[0m \u001b[0mself\u001b[0m\u001b[1;33m.\u001b[0m\u001b[0mtype\u001b[0m\u001b[1;33m\u001b[0m\u001b[0m\n",
      "\u001b[1;32m/home/gmarkall/miniconda3/envs/pyconuk34/lib/python3.4/site-packages/numba/typeinfer.py\u001b[0m in \u001b[0;36madd_type\u001b[1;34m(self, tp)\u001b[0m\n\u001b[0;32m     43\u001b[0m                 \u001b[1;32mif\u001b[0m \u001b[0munified\u001b[0m \u001b[1;32mis\u001b[0m \u001b[0mtypes\u001b[0m\u001b[1;33m.\u001b[0m\u001b[0mpyobject\u001b[0m\u001b[1;33m:\u001b[0m\u001b[1;33m\u001b[0m\u001b[0m\n\u001b[0;32m     44\u001b[0m                     raise TypingError(\"cannot unify %s and %s for '%s'\"\n\u001b[1;32m---> 45\u001b[1;33m                                       % (self.type, tp, self.var))\n\u001b[0m\u001b[0;32m     46\u001b[0m             \u001b[1;32melse\u001b[0m\u001b[1;33m:\u001b[0m\u001b[1;33m\u001b[0m\u001b[0m\n\u001b[0;32m     47\u001b[0m                 \u001b[0munified\u001b[0m \u001b[1;33m=\u001b[0m \u001b[0mtp\u001b[0m\u001b[1;33m\u001b[0m\u001b[0m\n",
      "\u001b[1;31mTypingError\u001b[0m: Failed at nopython (nopython frontend)\ncannot unify int64 and (int64 x 2) for 'x'"
     ]
    }
   ],
   "source": [
    "@jit(nopython=True)\n",
    "def select(a, b, c):\n",
    "    if c:\n",
    "        x = a\n",
    "    else:\n",
    "        x = b\n",
    "    return x\n",
    "\n",
    "select(1, (1, 2), True)"
   ]
  },
  {
   "cell_type": "markdown",
   "metadata": {},
   "source": [
    "Note that the typing cannot depend on the runtime behaviour of the code. In this example, it may be that select is only ever called with `c = True`, so the function would only ever return one type. However, Numba cannot know this, and must always generate typing and code for all paths.\n",
    "\n",
    "## Unsupported functions\n",
    "\n",
    "Finally, let’s try calling a function that is not supported in nopython mode:"
   ]
  },
  {
   "cell_type": "code",
   "execution_count": 10,
   "metadata": {
    "collapsed": false
   },
   "outputs": [
    {
     "ename": "TypingError",
     "evalue": "Failed at nopython (nopython frontend)\nUnknown attribute 'det' for Module(<module 'numpy.linalg' from '/home/gmarkall/miniconda3/envs/pyconuk34/lib/python3.4/site-packages/numpy/linalg/__init__.py'>) $0.2 $0.3 = getattr(value=$0.2, attr=det)\nFile \"<ipython-input-10-e0f26eceb1c2>\", line 5",
     "output_type": "error",
     "traceback": [
      "\u001b[1;31m---------------------------------------------------------------------------\u001b[0m",
      "\u001b[1;31mKeyError\u001b[0m                                  Traceback (most recent call last)",
      "\u001b[1;32m/home/gmarkall/miniconda3/envs/pyconuk34/lib/python3.4/site-packages/numba/typeinfer.py\u001b[0m in \u001b[0;36m__call__\u001b[1;34m(self, typeinfer)\u001b[0m\n\u001b[0;32m    339\u001b[0m             \u001b[1;32mtry\u001b[0m\u001b[1;33m:\u001b[0m\u001b[1;33m\u001b[0m\u001b[0m\n\u001b[1;32m--> 340\u001b[1;33m                 \u001b[0mattrty\u001b[0m \u001b[1;33m=\u001b[0m \u001b[0mtypeinfer\u001b[0m\u001b[1;33m.\u001b[0m\u001b[0mcontext\u001b[0m\u001b[1;33m.\u001b[0m\u001b[0mresolve_getattr\u001b[0m\u001b[1;33m(\u001b[0m\u001b[0mvalue\u001b[0m\u001b[1;33m=\u001b[0m\u001b[0mty\u001b[0m\u001b[1;33m,\u001b[0m \u001b[0mattr\u001b[0m\u001b[1;33m=\u001b[0m\u001b[0mself\u001b[0m\u001b[1;33m.\u001b[0m\u001b[0mattr\u001b[0m\u001b[1;33m)\u001b[0m\u001b[1;33m\u001b[0m\u001b[0m\n\u001b[0m\u001b[0;32m    341\u001b[0m             \u001b[1;32mexcept\u001b[0m \u001b[0mKeyError\u001b[0m\u001b[1;33m:\u001b[0m\u001b[1;33m\u001b[0m\u001b[0m\n",
      "\u001b[1;32m/home/gmarkall/miniconda3/envs/pyconuk34/lib/python3.4/site-packages/numba/typing/context.py\u001b[0m in \u001b[0;36mresolve_getattr\u001b[1;34m(self, value, attr)\u001b[0m\n\u001b[0;32m    121\u001b[0m         \u001b[1;32mtry\u001b[0m\u001b[1;33m:\u001b[0m\u001b[1;33m\u001b[0m\u001b[0m\n\u001b[1;32m--> 122\u001b[1;33m             \u001b[0mattrinfo\u001b[0m \u001b[1;33m=\u001b[0m \u001b[0mself\u001b[0m\u001b[1;33m.\u001b[0m\u001b[0mattributes\u001b[0m\u001b[1;33m[\u001b[0m\u001b[0mvalue\u001b[0m\u001b[1;33m]\u001b[0m\u001b[1;33m\u001b[0m\u001b[0m\n\u001b[0m\u001b[0;32m    123\u001b[0m         \u001b[1;32mexcept\u001b[0m \u001b[0mKeyError\u001b[0m\u001b[1;33m:\u001b[0m\u001b[1;33m\u001b[0m\u001b[0m\n",
      "\u001b[1;31mKeyError\u001b[0m: Module(<module 'numpy.linalg' from '/home/gmarkall/miniconda3/envs/pyconuk34/lib/python3.4/site-packages/numpy/linalg/__init__.py'>)",
      "\nDuring handling of the above exception, another exception occurred:\n",
      "\u001b[1;31mTypingError\u001b[0m                               Traceback (most recent call last)",
      "\u001b[1;32m<ipython-input-10-e0f26eceb1c2>\u001b[0m in \u001b[0;36m<module>\u001b[1;34m()\u001b[0m\n\u001b[0;32m      5\u001b[0m     \u001b[1;32mreturn\u001b[0m \u001b[0mnp\u001b[0m\u001b[1;33m.\u001b[0m\u001b[0mlinalg\u001b[0m\u001b[1;33m.\u001b[0m\u001b[0mdet\u001b[0m\u001b[1;33m(\u001b[0m\u001b[0mA\u001b[0m\u001b[1;33m)\u001b[0m \u001b[1;33m*\u001b[0m \u001b[0mx\u001b[0m\u001b[1;33m\u001b[0m\u001b[0m\n\u001b[0;32m      6\u001b[0m \u001b[1;33m\u001b[0m\u001b[0m\n\u001b[1;32m----> 7\u001b[1;33m \u001b[0mscaled_det\u001b[0m\u001b[1;33m(\u001b[0m\u001b[0mnp\u001b[0m\u001b[1;33m.\u001b[0m\u001b[0marange\u001b[0m\u001b[1;33m(\u001b[0m\u001b[1;36m9\u001b[0m\u001b[1;33m)\u001b[0m\u001b[1;33m.\u001b[0m\u001b[0mreshape\u001b[0m\u001b[1;33m(\u001b[0m\u001b[1;36m3\u001b[0m\u001b[1;33m,\u001b[0m\u001b[1;36m3\u001b[0m\u001b[1;33m)\u001b[0m\u001b[1;33m,\u001b[0m \u001b[1;36m2.0\u001b[0m\u001b[1;33m)\u001b[0m\u001b[1;33m\u001b[0m\u001b[0m\n\u001b[0m",
      "\u001b[1;32m/home/gmarkall/miniconda3/envs/pyconuk34/lib/python3.4/site-packages/numba/dispatcher.py\u001b[0m in \u001b[0;36m_compile_for_args\u001b[1;34m(self, *args, **kws)\u001b[0m\n\u001b[0;32m    169\u001b[0m         \u001b[1;32massert\u001b[0m \u001b[1;32mnot\u001b[0m \u001b[0mkws\u001b[0m\u001b[1;33m\u001b[0m\u001b[0m\n\u001b[0;32m    170\u001b[0m         \u001b[0msig\u001b[0m \u001b[1;33m=\u001b[0m \u001b[0mtuple\u001b[0m\u001b[1;33m(\u001b[0m\u001b[1;33m[\u001b[0m\u001b[0mself\u001b[0m\u001b[1;33m.\u001b[0m\u001b[0mtypeof_pyval\u001b[0m\u001b[1;33m(\u001b[0m\u001b[0ma\u001b[0m\u001b[1;33m)\u001b[0m \u001b[1;32mfor\u001b[0m \u001b[0ma\u001b[0m \u001b[1;32min\u001b[0m \u001b[0margs\u001b[0m\u001b[1;33m]\u001b[0m\u001b[1;33m)\u001b[0m\u001b[1;33m\u001b[0m\u001b[0m\n\u001b[1;32m--> 171\u001b[1;33m         \u001b[1;32mreturn\u001b[0m \u001b[0mself\u001b[0m\u001b[1;33m.\u001b[0m\u001b[0mcompile\u001b[0m\u001b[1;33m(\u001b[0m\u001b[0msig\u001b[0m\u001b[1;33m)\u001b[0m\u001b[1;33m\u001b[0m\u001b[0m\n\u001b[0m\u001b[0;32m    172\u001b[0m \u001b[1;33m\u001b[0m\u001b[0m\n\u001b[0;32m    173\u001b[0m     \u001b[1;32mdef\u001b[0m \u001b[0minspect_llvm\u001b[0m\u001b[1;33m(\u001b[0m\u001b[0mself\u001b[0m\u001b[1;33m,\u001b[0m \u001b[0msignature\u001b[0m\u001b[1;33m=\u001b[0m\u001b[1;32mNone\u001b[0m\u001b[1;33m)\u001b[0m\u001b[1;33m:\u001b[0m\u001b[1;33m\u001b[0m\u001b[0m\n",
      "\u001b[1;32m/home/gmarkall/miniconda3/envs/pyconuk34/lib/python3.4/site-packages/numba/dispatcher.py\u001b[0m in \u001b[0;36mcompile\u001b[1;34m(self, sig)\u001b[0m\n\u001b[0;32m    346\u001b[0m                                           \u001b[0mself\u001b[0m\u001b[1;33m.\u001b[0m\u001b[0mpy_func\u001b[0m\u001b[1;33m,\u001b[0m\u001b[1;33m\u001b[0m\u001b[0m\n\u001b[0;32m    347\u001b[0m                                           \u001b[0margs\u001b[0m\u001b[1;33m=\u001b[0m\u001b[0margs\u001b[0m\u001b[1;33m,\u001b[0m \u001b[0mreturn_type\u001b[0m\u001b[1;33m=\u001b[0m\u001b[0mreturn_type\u001b[0m\u001b[1;33m,\u001b[0m\u001b[1;33m\u001b[0m\u001b[0m\n\u001b[1;32m--> 348\u001b[1;33m                                           flags=flags, locals=self.locals)\n\u001b[0m\u001b[0;32m    349\u001b[0m \u001b[1;33m\u001b[0m\u001b[0m\n\u001b[0;32m    350\u001b[0m             \u001b[1;31m# Check typing error if object mode is used\u001b[0m\u001b[1;33m\u001b[0m\u001b[1;33m\u001b[0m\u001b[0m\n",
      "\u001b[1;32m/home/gmarkall/miniconda3/envs/pyconuk34/lib/python3.4/site-packages/numba/compiler.py\u001b[0m in \u001b[0;36mcompile_extra\u001b[1;34m(typingctx, targetctx, func, args, return_type, flags, locals, library)\u001b[0m\n\u001b[0;32m    635\u001b[0m     pipeline = Pipeline(typingctx, targetctx, library,\n\u001b[0;32m    636\u001b[0m                         args, return_type, flags, locals)\n\u001b[1;32m--> 637\u001b[1;33m     \u001b[1;32mreturn\u001b[0m \u001b[0mpipeline\u001b[0m\u001b[1;33m.\u001b[0m\u001b[0mcompile_extra\u001b[0m\u001b[1;33m(\u001b[0m\u001b[0mfunc\u001b[0m\u001b[1;33m)\u001b[0m\u001b[1;33m\u001b[0m\u001b[0m\n\u001b[0m\u001b[0;32m    638\u001b[0m \u001b[1;33m\u001b[0m\u001b[0m\n\u001b[0;32m    639\u001b[0m \u001b[1;33m\u001b[0m\u001b[0m\n",
      "\u001b[1;32m/home/gmarkall/miniconda3/envs/pyconuk34/lib/python3.4/site-packages/numba/compiler.py\u001b[0m in \u001b[0;36mcompile_extra\u001b[1;34m(self, func)\u001b[0m\n\u001b[0;32m    356\u001b[0m                 \u001b[1;32mraise\u001b[0m \u001b[0me\u001b[0m\u001b[1;33m\u001b[0m\u001b[0m\n\u001b[0;32m    357\u001b[0m \u001b[1;33m\u001b[0m\u001b[0m\n\u001b[1;32m--> 358\u001b[1;33m         \u001b[1;32mreturn\u001b[0m \u001b[0mself\u001b[0m\u001b[1;33m.\u001b[0m\u001b[0mcompile_bytecode\u001b[0m\u001b[1;33m(\u001b[0m\u001b[0mbc\u001b[0m\u001b[1;33m,\u001b[0m \u001b[0mfunc_attr\u001b[0m\u001b[1;33m=\u001b[0m\u001b[0mself\u001b[0m\u001b[1;33m.\u001b[0m\u001b[0mfunc_attr\u001b[0m\u001b[1;33m)\u001b[0m\u001b[1;33m\u001b[0m\u001b[0m\n\u001b[0m\u001b[0;32m    359\u001b[0m \u001b[1;33m\u001b[0m\u001b[0m\n\u001b[0;32m    360\u001b[0m     def compile_bytecode(self, bc, lifted=(), lifted_from=None,\n",
      "\u001b[1;32m/home/gmarkall/miniconda3/envs/pyconuk34/lib/python3.4/site-packages/numba/compiler.py\u001b[0m in \u001b[0;36mcompile_bytecode\u001b[1;34m(self, bc, lifted, lifted_from, func_attr)\u001b[0m\n\u001b[0;32m    365\u001b[0m         \u001b[0mself\u001b[0m\u001b[1;33m.\u001b[0m\u001b[0mlifted_from\u001b[0m \u001b[1;33m=\u001b[0m \u001b[0mlifted_from\u001b[0m\u001b[1;33m\u001b[0m\u001b[0m\n\u001b[0;32m    366\u001b[0m         \u001b[0mself\u001b[0m\u001b[1;33m.\u001b[0m\u001b[0mfunc_attr\u001b[0m \u001b[1;33m=\u001b[0m \u001b[0mfunc_attr\u001b[0m\u001b[1;33m\u001b[0m\u001b[0m\n\u001b[1;32m--> 367\u001b[1;33m         \u001b[1;32mreturn\u001b[0m \u001b[0mself\u001b[0m\u001b[1;33m.\u001b[0m\u001b[0m_compile_bytecode\u001b[0m\u001b[1;33m(\u001b[0m\u001b[1;33m)\u001b[0m\u001b[1;33m\u001b[0m\u001b[0m\n\u001b[0m\u001b[0;32m    368\u001b[0m \u001b[1;33m\u001b[0m\u001b[0m\n\u001b[0;32m    369\u001b[0m     \u001b[1;32mdef\u001b[0m \u001b[0mcompile_internal\u001b[0m\u001b[1;33m(\u001b[0m\u001b[0mself\u001b[0m\u001b[1;33m,\u001b[0m \u001b[0mbc\u001b[0m\u001b[1;33m,\u001b[0m \u001b[0mfunc_attr\u001b[0m\u001b[1;33m=\u001b[0m\u001b[0mDEFAULT_FUNCTION_ATTRIBUTES\u001b[0m\u001b[1;33m)\u001b[0m\u001b[1;33m:\u001b[0m\u001b[1;33m\u001b[0m\u001b[0m\n",
      "\u001b[1;32m/home/gmarkall/miniconda3/envs/pyconuk34/lib/python3.4/site-packages/numba/compiler.py\u001b[0m in \u001b[0;36m_compile_bytecode\u001b[1;34m(self)\u001b[0m\n\u001b[0;32m    622\u001b[0m \u001b[1;33m\u001b[0m\u001b[0m\n\u001b[0;32m    623\u001b[0m         \u001b[0mpm\u001b[0m\u001b[1;33m.\u001b[0m\u001b[0mfinalize\u001b[0m\u001b[1;33m(\u001b[0m\u001b[1;33m)\u001b[0m\u001b[1;33m\u001b[0m\u001b[0m\n\u001b[1;32m--> 624\u001b[1;33m         \u001b[1;32mreturn\u001b[0m \u001b[0mpm\u001b[0m\u001b[1;33m.\u001b[0m\u001b[0mrun\u001b[0m\u001b[1;33m(\u001b[0m\u001b[0mself\u001b[0m\u001b[1;33m.\u001b[0m\u001b[0mstatus\u001b[0m\u001b[1;33m)\u001b[0m\u001b[1;33m\u001b[0m\u001b[0m\n\u001b[0m\u001b[0;32m    625\u001b[0m \u001b[1;33m\u001b[0m\u001b[0m\n\u001b[0;32m    626\u001b[0m \u001b[1;33m\u001b[0m\u001b[0m\n",
      "\u001b[1;32m/home/gmarkall/miniconda3/envs/pyconuk34/lib/python3.4/site-packages/numba/compiler.py\u001b[0m in \u001b[0;36mrun\u001b[1;34m(self, status)\u001b[0m\n\u001b[0;32m    248\u001b[0m                     \u001b[1;31m# No more fallback pipelines?\u001b[0m\u001b[1;33m\u001b[0m\u001b[1;33m\u001b[0m\u001b[0m\n\u001b[0;32m    249\u001b[0m                     \u001b[1;32mif\u001b[0m \u001b[0mis_final_pipeline\u001b[0m\u001b[1;33m:\u001b[0m\u001b[1;33m\u001b[0m\u001b[0m\n\u001b[1;32m--> 250\u001b[1;33m                         \u001b[1;32mraise\u001b[0m \u001b[0mpatched_exception\u001b[0m\u001b[1;33m\u001b[0m\u001b[0m\n\u001b[0m\u001b[0;32m    251\u001b[0m                     \u001b[1;31m# Go to next fallback pipeline\u001b[0m\u001b[1;33m\u001b[0m\u001b[1;33m\u001b[0m\u001b[0m\n\u001b[0;32m    252\u001b[0m                     \u001b[1;32melse\u001b[0m\u001b[1;33m:\u001b[0m\u001b[1;33m\u001b[0m\u001b[0m\n",
      "\u001b[1;32m/home/gmarkall/miniconda3/envs/pyconuk34/lib/python3.4/site-packages/numba/compiler.py\u001b[0m in \u001b[0;36mrun\u001b[1;34m(self, status)\u001b[0m\n\u001b[0;32m    240\u001b[0m             \u001b[1;32mfor\u001b[0m \u001b[0mstage\u001b[0m\u001b[1;33m,\u001b[0m \u001b[0mstage_name\u001b[0m \u001b[1;32min\u001b[0m \u001b[0mself\u001b[0m\u001b[1;33m.\u001b[0m\u001b[0mpipeline_stages\u001b[0m\u001b[1;33m[\u001b[0m\u001b[0mpipeline_name\u001b[0m\u001b[1;33m]\u001b[0m\u001b[1;33m:\u001b[0m\u001b[1;33m\u001b[0m\u001b[0m\n\u001b[0;32m    241\u001b[0m                 \u001b[1;32mtry\u001b[0m\u001b[1;33m:\u001b[0m\u001b[1;33m\u001b[0m\u001b[0m\n\u001b[1;32m--> 242\u001b[1;33m                     \u001b[0mres\u001b[0m \u001b[1;33m=\u001b[0m \u001b[0mstage\u001b[0m\u001b[1;33m(\u001b[0m\u001b[1;33m)\u001b[0m\u001b[1;33m\u001b[0m\u001b[0m\n\u001b[0m\u001b[0;32m    243\u001b[0m                 \u001b[1;32mexcept\u001b[0m \u001b[0m_EarlyPipelineCompletion\u001b[0m \u001b[1;32mas\u001b[0m \u001b[0me\u001b[0m\u001b[1;33m:\u001b[0m\u001b[1;33m\u001b[0m\u001b[0m\n\u001b[0;32m    244\u001b[0m                     \u001b[1;32mreturn\u001b[0m \u001b[0me\u001b[0m\u001b[1;33m.\u001b[0m\u001b[0mresult\u001b[0m\u001b[1;33m\u001b[0m\u001b[0m\n",
      "\u001b[1;32m/home/gmarkall/miniconda3/envs/pyconuk34/lib/python3.4/site-packages/numba/compiler.py\u001b[0m in \u001b[0;36mstage_nopython_frontend\u001b[1;34m(self)\u001b[0m\n\u001b[0;32m    453\u001b[0m                 \u001b[0mself\u001b[0m\u001b[1;33m.\u001b[0m\u001b[0margs\u001b[0m\u001b[1;33m,\u001b[0m\u001b[1;33m\u001b[0m\u001b[0m\n\u001b[0;32m    454\u001b[0m                 \u001b[0mself\u001b[0m\u001b[1;33m.\u001b[0m\u001b[0mreturn_type\u001b[0m\u001b[1;33m,\u001b[0m\u001b[1;33m\u001b[0m\u001b[0m\n\u001b[1;32m--> 455\u001b[1;33m                 self.locals)\n\u001b[0m\u001b[0;32m    456\u001b[0m \u001b[1;33m\u001b[0m\u001b[0m\n\u001b[0;32m    457\u001b[0m         with self.fallback_context('Function \"%s\" has invalid return type'\n",
      "\u001b[1;32m/home/gmarkall/miniconda3/envs/pyconuk34/lib/python3.4/site-packages/numba/compiler.py\u001b[0m in \u001b[0;36mtype_inference_stage\u001b[1;34m(typingctx, interp, args, return_type, locals)\u001b[0m\n\u001b[0;32m    750\u001b[0m \u001b[1;33m\u001b[0m\u001b[0m\n\u001b[0;32m    751\u001b[0m     \u001b[0minfer\u001b[0m\u001b[1;33m.\u001b[0m\u001b[0mbuild_constraint\u001b[0m\u001b[1;33m(\u001b[0m\u001b[1;33m)\u001b[0m\u001b[1;33m\u001b[0m\u001b[0m\n\u001b[1;32m--> 752\u001b[1;33m     \u001b[0minfer\u001b[0m\u001b[1;33m.\u001b[0m\u001b[0mpropagate\u001b[0m\u001b[1;33m(\u001b[0m\u001b[1;33m)\u001b[0m\u001b[1;33m\u001b[0m\u001b[0m\n\u001b[0m\u001b[0;32m    753\u001b[0m     \u001b[0mtypemap\u001b[0m\u001b[1;33m,\u001b[0m \u001b[0mrestype\u001b[0m\u001b[1;33m,\u001b[0m \u001b[0mcalltypes\u001b[0m \u001b[1;33m=\u001b[0m \u001b[0minfer\u001b[0m\u001b[1;33m.\u001b[0m\u001b[0munify\u001b[0m\u001b[1;33m(\u001b[0m\u001b[1;33m)\u001b[0m\u001b[1;33m\u001b[0m\u001b[0m\n\u001b[0;32m    754\u001b[0m \u001b[1;33m\u001b[0m\u001b[0m\n",
      "\u001b[1;32m/home/gmarkall/miniconda3/envs/pyconuk34/lib/python3.4/site-packages/numba/typeinfer.py\u001b[0m in \u001b[0;36mpropagate\u001b[1;34m(self)\u001b[0m\n\u001b[0;32m    508\u001b[0m             \u001b[0mself\u001b[0m\u001b[1;33m.\u001b[0m\u001b[0mdebug\u001b[0m\u001b[1;33m.\u001b[0m\u001b[0mpropagate_finished\u001b[0m\u001b[1;33m(\u001b[0m\u001b[1;33m)\u001b[0m\u001b[1;33m\u001b[0m\u001b[0m\n\u001b[0;32m    509\u001b[0m         \u001b[1;32mif\u001b[0m \u001b[0merrors\u001b[0m\u001b[1;33m:\u001b[0m\u001b[1;33m\u001b[0m\u001b[0m\n\u001b[1;32m--> 510\u001b[1;33m             \u001b[1;32mraise\u001b[0m \u001b[0merrors\u001b[0m\u001b[1;33m[\u001b[0m\u001b[1;36m0\u001b[0m\u001b[1;33m]\u001b[0m\u001b[1;33m\u001b[0m\u001b[0m\n\u001b[0m\u001b[0;32m    511\u001b[0m \u001b[1;33m\u001b[0m\u001b[0m\n\u001b[0;32m    512\u001b[0m     \u001b[1;32mdef\u001b[0m \u001b[0madd_type\u001b[0m\u001b[1;33m(\u001b[0m\u001b[0mself\u001b[0m\u001b[1;33m,\u001b[0m \u001b[0mvar\u001b[0m\u001b[1;33m,\u001b[0m \u001b[0mtp\u001b[0m\u001b[1;33m,\u001b[0m \u001b[0munless_locked\u001b[0m\u001b[1;33m=\u001b[0m\u001b[1;32mFalse\u001b[0m\u001b[1;33m)\u001b[0m\u001b[1;33m:\u001b[0m\u001b[1;33m\u001b[0m\u001b[0m\n",
      "\u001b[1;32m/home/gmarkall/miniconda3/envs/pyconuk34/lib/python3.4/site-packages/numba/typeinfer.py\u001b[0m in \u001b[0;36mpropagate\u001b[1;34m(self, typeinfer)\u001b[0m\n\u001b[0;32m    109\u001b[0m         \u001b[1;32mfor\u001b[0m \u001b[0mconstraint\u001b[0m \u001b[1;32min\u001b[0m \u001b[0mself\u001b[0m\u001b[1;33m.\u001b[0m\u001b[0mconstraints\u001b[0m\u001b[1;33m:\u001b[0m\u001b[1;33m\u001b[0m\u001b[0m\n\u001b[0;32m    110\u001b[0m             \u001b[1;32mtry\u001b[0m\u001b[1;33m:\u001b[0m\u001b[1;33m\u001b[0m\u001b[0m\n\u001b[1;32m--> 111\u001b[1;33m                 \u001b[0mconstraint\u001b[0m\u001b[1;33m(\u001b[0m\u001b[0mtypeinfer\u001b[0m\u001b[1;33m)\u001b[0m\u001b[1;33m\u001b[0m\u001b[0m\n\u001b[0m\u001b[0;32m    112\u001b[0m             \u001b[1;32mexcept\u001b[0m \u001b[0mTypingError\u001b[0m \u001b[1;32mas\u001b[0m \u001b[0me\u001b[0m\u001b[1;33m:\u001b[0m\u001b[1;33m\u001b[0m\u001b[0m\n\u001b[0;32m    113\u001b[0m                 \u001b[0merrors\u001b[0m\u001b[1;33m.\u001b[0m\u001b[0mappend\u001b[0m\u001b[1;33m(\u001b[0m\u001b[0me\u001b[0m\u001b[1;33m)\u001b[0m\u001b[1;33m\u001b[0m\u001b[0m\n",
      "\u001b[1;32m/home/gmarkall/miniconda3/envs/pyconuk34/lib/python3.4/site-packages/numba/typeinfer.py\u001b[0m in \u001b[0;36m__call__\u001b[1;34m(self, typeinfer)\u001b[0m\n\u001b[0;32m    342\u001b[0m                 \u001b[0margs\u001b[0m \u001b[1;33m=\u001b[0m \u001b[1;33m(\u001b[0m\u001b[0mself\u001b[0m\u001b[1;33m.\u001b[0m\u001b[0mattr\u001b[0m\u001b[1;33m,\u001b[0m \u001b[0mty\u001b[0m\u001b[1;33m,\u001b[0m \u001b[0mself\u001b[0m\u001b[1;33m.\u001b[0m\u001b[0mvalue\u001b[0m\u001b[1;33m.\u001b[0m\u001b[0mname\u001b[0m\u001b[1;33m,\u001b[0m \u001b[0mself\u001b[0m\u001b[1;33m.\u001b[0m\u001b[0minst\u001b[0m\u001b[1;33m)\u001b[0m\u001b[1;33m\u001b[0m\u001b[0m\n\u001b[0;32m    343\u001b[0m                 \u001b[0mmsg\u001b[0m \u001b[1;33m=\u001b[0m \u001b[1;34m\"Unknown attribute '%s' for %s %s %s\"\u001b[0m \u001b[1;33m%\u001b[0m \u001b[0margs\u001b[0m\u001b[1;33m\u001b[0m\u001b[0m\n\u001b[1;32m--> 344\u001b[1;33m                 \u001b[1;32mraise\u001b[0m \u001b[0mTypingError\u001b[0m\u001b[1;33m(\u001b[0m\u001b[0mmsg\u001b[0m\u001b[1;33m,\u001b[0m \u001b[0mloc\u001b[0m\u001b[1;33m=\u001b[0m\u001b[0mself\u001b[0m\u001b[1;33m.\u001b[0m\u001b[0minst\u001b[0m\u001b[1;33m.\u001b[0m\u001b[0mloc\u001b[0m\u001b[1;33m)\u001b[0m\u001b[1;33m\u001b[0m\u001b[0m\n\u001b[0m\u001b[0;32m    345\u001b[0m             \u001b[1;32melse\u001b[0m\u001b[1;33m:\u001b[0m\u001b[1;33m\u001b[0m\u001b[0m\n\u001b[0;32m    346\u001b[0m                 \u001b[0mtypeinfer\u001b[0m\u001b[1;33m.\u001b[0m\u001b[0madd_type\u001b[0m\u001b[1;33m(\u001b[0m\u001b[0mself\u001b[0m\u001b[1;33m.\u001b[0m\u001b[0mtarget\u001b[0m\u001b[1;33m,\u001b[0m \u001b[0mattrty\u001b[0m\u001b[1;33m)\u001b[0m\u001b[1;33m\u001b[0m\u001b[0m\n",
      "\u001b[1;31mTypingError\u001b[0m: Failed at nopython (nopython frontend)\nUnknown attribute 'det' for Module(<module 'numpy.linalg' from '/home/gmarkall/miniconda3/envs/pyconuk34/lib/python3.4/site-packages/numpy/linalg/__init__.py'>) $0.2 $0.3 = getattr(value=$0.2, attr=det)\nFile \"<ipython-input-10-e0f26eceb1c2>\", line 5"
     ]
    }
   ],
   "source": [
    "import numpy as np\n",
    "\n",
    "@jit(nopython=True)\n",
    "def scaled_det(A, x):\n",
    "    return np.linalg.det(A) * x\n",
    "\n",
    "scaled_det(np.arange(9).reshape(3,3), 2.0)"
   ]
  },
  {
   "cell_type": "markdown",
   "metadata": {},
   "source": [
    "The above error message indicates that the `det` method is unsupported by Numba.\n",
    "\n",
    "## Summary\n",
    "\n",
    "- You can instruct Numba to only use nopython mode by passing `nopython=True` to the jit decorator.\n",
    "- This doesn't change the way Numba works, but makes it an error if the function can't be compiled in nopython mode.\n",
    "- Type unification is done without any analysis to determine whether a branch will be taken or not taken - all branches must be able to be unified.\n",
    "- Calling functions unsupported by Numba will result in an error in nopython mode."
   ]
  },
  {
   "cell_type": "code",
   "execution_count": null,
   "metadata": {
    "collapsed": true
   },
   "outputs": [],
   "source": []
  },
  {
   "cell_type": "code",
   "execution_count": null,
   "metadata": {
    "collapsed": true
   },
   "outputs": [],
   "source": []
  }
 ],
 "metadata": {
  "kernelspec": {
   "display_name": "Python 3",
   "language": "python",
   "name": "python3"
  },
  "language_info": {
   "codemirror_mode": {
    "name": "ipython",
    "version": 3
   },
   "file_extension": ".py",
   "mimetype": "text/x-python",
   "name": "python",
   "nbconvert_exporter": "python",
   "pygments_lexer": "ipython3",
   "version": "3.4.3"
  }
 },
 "nbformat": 4,
 "nbformat_minor": 0
}
