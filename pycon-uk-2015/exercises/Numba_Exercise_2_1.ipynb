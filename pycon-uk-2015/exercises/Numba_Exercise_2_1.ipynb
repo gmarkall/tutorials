{
 "cells": [
  {
   "cell_type": "markdown",
   "metadata": {},
   "source": [
    "# Exercise 2.1 - Inspection\n",
    "\n",
    "## Objective\n",
    "\n",
    "- To see how to inspect the outputs of various stages of Numba’s compilation pipeline.\n",
    "\n",
    "## Typing\n",
    "\n",
    "First, we need a function to work with, so we’ll invent this sum function:"
   ]
  },
  {
   "cell_type": "code",
   "execution_count": null,
   "metadata": {
    "collapsed": true
   },
   "outputs": [],
   "source": [
    "from numba import jit\n",
    "\n",
    "@jit\n",
    "def sum(x):\n",
    "    s = 0\n",
    "    for i in range(len(x)):\n",
    "        s += x[i]\n",
    "    return s"
   ]
  },
  {
   "cell_type": "markdown",
   "metadata": {},
   "source": [
    "Now inspect its types:\n",
    "\n"
   ]
  },
  {
   "cell_type": "code",
   "execution_count": null,
   "metadata": {
    "collapsed": true
   },
   "outputs": [],
   "source": [
    "sum.inspect_types()"
   ]
  },
  {
   "cell_type": "markdown",
   "metadata": {},
   "source": [
    "There is no output - no typing information exists at present, because we have not yet forced a compilation by calling the function yet. So let’s do that and try inspecting types again:"
   ]
  },
  {
   "cell_type": "code",
   "execution_count": null,
   "metadata": {
    "collapsed": false
   },
   "outputs": [],
   "source": [
    "import numpy as np\n",
    "\n",
    "a = np.arange(10)\n",
    "\n",
    "sum(a)\n",
    "\n",
    "sum.inspect_types()"
   ]
  },
  {
   "cell_type": "markdown",
   "metadata": {},
   "source": [
    "Calling the function again with arguments of a different type results in a different typing:"
   ]
  },
  {
   "cell_type": "code",
   "execution_count": null,
   "metadata": {
    "collapsed": false
   },
   "outputs": [],
   "source": [
    "a = np.arange(10, dtype=np.float32)\n",
    "sum(a)\n",
    "sum.inspect_types()"
   ]
  },
  {
   "cell_type": "markdown",
   "metadata": {},
   "source": [
    "The different typings have different code generated.\n",
    "\n",
    "## LLVM IR\n",
    "\n",
    "We can use inspect_llvm to see the generated LLVM IR, which return a dict keyed on the argument types, so it it helpful to define an additional function to help show the LLVM code:"
   ]
  },
  {
   "cell_type": "code",
   "execution_count": null,
   "metadata": {
    "collapsed": true
   },
   "outputs": [],
   "source": [
    "def show_llvm(func):\n",
    "    llvm_code = func.inspect_llvm()\n",
    "    for k, v in llvm_code.items():\n",
    "        print('-' * 80)\n",
    "        print(\"Signature:\", k)\n",
    "        print('-' * 80)\n",
    "        print(v)\n",
    "        print()"
   ]
  },
  {
   "cell_type": "markdown",
   "metadata": {},
   "source": [
    "Now we can easily look at the LLVM code for sum:"
   ]
  },
  {
   "cell_type": "code",
   "execution_count": null,
   "metadata": {
    "collapsed": false
   },
   "outputs": [],
   "source": [
    "show_llvm(sum)"
   ]
  },
  {
   "cell_type": "markdown",
   "metadata": {},
   "source": [
    "That is quite a lot of code! The generated code includes a wrapper function which does part of the work of marshalling the arguments, and calls to the Numba Runtime, which manages memory allocation within compiled code.\n",
    "\n",
    "## Assembly\n",
    "\n",
    "Generated assembly can similarly be viewed:"
   ]
  },
  {
   "cell_type": "code",
   "execution_count": null,
   "metadata": {
    "collapsed": false
   },
   "outputs": [],
   "source": [
    "def show_asm(func):\n",
    "    asm_code = func.inspect_asm()\n",
    "    for k, v in asm_code.items():\n",
    "        print('-' * 80)\n",
    "        print(\"Signature:\", k)\n",
    "        print('-' * 80)\n",
    "        print(v)\n",
    "        print()\n",
    "\n",
    "show_asm(sum)"
   ]
  },
  {
   "cell_type": "markdown",
   "metadata": {},
   "source": [
    "The generated assembly code is a lot shorter than the LLVM code - this is because it has been transformed by LLVM’s optimisation passes, which has in part simplified the code so that it executes more quickly.\n",
    "\n",
    "## Summary\n",
    "\n",
    "- The typing of variables in the Python source and Numba IR can be viewed with `inspect_types()`.\n",
    "- The generated LLVM and Assembly code can be retrieved using the `inspect_llvm()` and `inspect_asm()` functions.\n",
    "- The LLVM output is very large in comparison with the assembly code. This is because the optimisation passes simplify and eliminate a large amount of code.\n",
    "- The generated code also handles marshalling Python arguments to native types, and book-keeping for reference-counting."
   ]
  },
  {
   "cell_type": "code",
   "execution_count": null,
   "metadata": {
    "collapsed": true
   },
   "outputs": [],
   "source": []
  }
 ],
 "metadata": {
  "kernelspec": {
   "display_name": "Python 3",
   "language": "python",
   "name": "python3"
  },
  "language_info": {
   "codemirror_mode": {
    "name": "ipython",
    "version": 3
   },
   "file_extension": ".py",
   "mimetype": "text/x-python",
   "name": "python",
   "nbconvert_exporter": "python",
   "pygments_lexer": "ipython3",
   "version": "3.4.3"
  }
 },
 "nbformat": 4,
 "nbformat_minor": 0
}
