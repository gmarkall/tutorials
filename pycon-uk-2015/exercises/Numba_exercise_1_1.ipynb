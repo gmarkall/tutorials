{
 "cells": [
  {
   "cell_type": "markdown",
   "metadata": {},
   "source": [
    "# Exercise 1.1 - Using the jit decorator\n",
    "## Introduction\n",
    "This tutorial is intended to be “interactive” - you should try running all code snippets in order to observe what happens.\n",
    "## A first use of the jit decorator\n",
    "\n",
    "Define a compiled addition function like:"
   ]
  },
  {
   "cell_type": "code",
   "execution_count": 1,
   "metadata": {
    "collapsed": true
   },
   "outputs": [],
   "source": [
    "from numba import jit\n",
    "\n",
    "@jit\n",
    "def add(x, y):\n",
    "    # A somewhat trivial example\n",
    "    return x + y"
   ]
  },
  {
   "cell_type": "markdown",
   "metadata": {},
   "source": [
    "Now try calling the function with:"
   ]
  },
  {
   "cell_type": "code",
   "execution_count": 3,
   "metadata": {
    "collapsed": false
   },
   "outputs": [
    {
     "data": {
      "text/plain": [
       "3"
      ]
     },
     "execution_count": 3,
     "metadata": {},
     "output_type": "execute_result"
    }
   ],
   "source": [
    "add(1, 2)"
   ]
  },
  {
   "cell_type": "markdown",
   "metadata": {},
   "source": [
    "and then:"
   ]
  },
  {
   "cell_type": "code",
   "execution_count": 4,
   "metadata": {
    "collapsed": false
   },
   "outputs": [
    {
     "data": {
      "text/plain": [
       "(2+1j)"
      ]
     },
     "execution_count": 4,
     "metadata": {},
     "output_type": "execute_result"
    }
   ],
   "source": [
    "add(1j, 2)"
   ]
  },
  {
   "cell_type": "markdown",
   "metadata": {},
   "source": [
    "Notice what happens on each invocation - the function behaves differently depending on the types of the arguments. Although this is unsurprising for Python code, Numba has generated two separate implementations of the add function for the different argument types.\n",
    "\n",
    "You can also explicitly specify the function signature that you are expecting:"
   ]
  },
  {
   "cell_type": "code",
   "execution_count": 5,
   "metadata": {
    "collapsed": true
   },
   "outputs": [],
   "source": [
    "from numba import int32\n",
    "\n",
    "@jit(int32(int32, int32))\n",
    "def add_int32(x, y):\n",
    "    return x + y"
   ]
  },
  {
   "cell_type": "markdown",
   "metadata": {},
   "source": [
    "Now try making these calls to the new function:"
   ]
  },
  {
   "cell_type": "code",
   "execution_count": 8,
   "metadata": {
    "collapsed": false
   },
   "outputs": [
    {
     "data": {
      "text/plain": [
       "3"
      ]
     },
     "execution_count": 8,
     "metadata": {},
     "output_type": "execute_result"
    }
   ],
   "source": [
    "add_int32(1, 2)"
   ]
  },
  {
   "cell_type": "markdown",
   "metadata": {},
   "source": [
    "and then:"
   ]
  },
  {
   "cell_type": "code",
   "execution_count": 9,
   "metadata": {
    "collapsed": false
   },
   "outputs": [
    {
     "ename": "TypeError",
     "evalue": "No matching definition for argument type(s) complex128, int64",
     "output_type": "error",
     "traceback": [
      "\u001b[1;31m---------------------------------------------------------------------------\u001b[0m",
      "\u001b[1;31mTypeError\u001b[0m                                 Traceback (most recent call last)",
      "\u001b[1;32m<ipython-input-9-c6d85fbb8668>\u001b[0m in \u001b[0;36m<module>\u001b[1;34m()\u001b[0m\n\u001b[1;32m----> 1\u001b[1;33m \u001b[0madd_int32\u001b[0m\u001b[1;33m(\u001b[0m\u001b[1;36m1j\u001b[0m\u001b[1;33m,\u001b[0m \u001b[1;36m2\u001b[0m\u001b[1;33m)\u001b[0m\u001b[1;33m\u001b[0m\u001b[0m\n\u001b[0m",
      "\u001b[1;32m/home/gmarkall/miniconda3/envs/pyconuk34/lib/python3.4/site-packages/numba/dispatcher.py\u001b[0m in \u001b[0;36m_explain_matching_error\u001b[1;34m(self, *args, **kws)\u001b[0m\n\u001b[0;32m    216\u001b[0m         msg = (\"No matching definition for argument type(s) %s\"\n\u001b[0;32m    217\u001b[0m                % ', '.join(map(str, args)))\n\u001b[1;32m--> 218\u001b[1;33m         \u001b[1;32mraise\u001b[0m \u001b[0mTypeError\u001b[0m\u001b[1;33m(\u001b[0m\u001b[0mmsg\u001b[0m\u001b[1;33m)\u001b[0m\u001b[1;33m\u001b[0m\u001b[0m\n\u001b[0m\u001b[0;32m    219\u001b[0m \u001b[1;33m\u001b[0m\u001b[0m\n\u001b[0;32m    220\u001b[0m     \u001b[1;32mdef\u001b[0m \u001b[0m_search_new_conversions\u001b[0m\u001b[1;33m(\u001b[0m\u001b[0mself\u001b[0m\u001b[1;33m,\u001b[0m \u001b[1;33m*\u001b[0m\u001b[0margs\u001b[0m\u001b[1;33m,\u001b[0m \u001b[1;33m**\u001b[0m\u001b[0mkws\u001b[0m\u001b[1;33m)\u001b[0m\u001b[1;33m:\u001b[0m\u001b[1;33m\u001b[0m\u001b[0m\n",
      "\u001b[1;31mTypeError\u001b[0m: No matching definition for argument type(s) complex128, int64"
     ]
    }
   ],
   "source": [
    "add_int32(1j, 2)"
   ]
  },
  {
   "cell_type": "markdown",
   "metadata": {},
   "source": [
    "This time the outcome is different - Numba will only permit the function to execute with the specified types.\n",
    "\n",
    "## Calling other compiled functions\n",
    "\n",
    "Execute the following:"
   ]
  },
  {
   "cell_type": "code",
   "execution_count": 10,
   "metadata": {
    "collapsed": true
   },
   "outputs": [],
   "source": [
    "import math\n",
    "\n",
    "def square(x):\n",
    "    return x * x\n",
    "\n",
    "@jit\n",
    "def hypot(x, y):\n",
    "    return math.sqrt(square(x) + square(y))"
   ]
  },
  {
   "cell_type": "markdown",
   "metadata": {},
   "source": [
    "Time the execution of `hypot(3, 4)`:"
   ]
  },
  {
   "cell_type": "code",
   "execution_count": 11,
   "metadata": {
    "collapsed": false,
    "scrolled": true
   },
   "outputs": [
    {
     "name": "stdout",
     "output_type": "stream",
     "text": [
      "The slowest run took 74757.99 times longer than the fastest. This could mean that an intermediate result is being cached \n",
      "1000000 loops, best of 3: 625 ns per loop\n"
     ]
    }
   ],
   "source": [
    "%timeit hypot(3, 4)"
   ]
  },
  {
   "cell_type": "markdown",
   "metadata": {},
   "source": [
    "Now let's add a @jit decorator to the square function:"
   ]
  },
  {
   "cell_type": "code",
   "execution_count": 15,
   "metadata": {
    "collapsed": true
   },
   "outputs": [],
   "source": [
    "@jit\n",
    "def square(x):\n",
    "    return x * x\n",
    "\n",
    "@jit\n",
    "def hypot(x, y):\n",
    "    return math.sqrt(square(x) + square(y))"
   ]
  },
  {
   "cell_type": "markdown",
   "metadata": {},
   "source": [
    " and time the execution of hypot(3, 4) again:"
   ]
  },
  {
   "cell_type": "code",
   "execution_count": 16,
   "metadata": {
    "collapsed": false
   },
   "outputs": [
    {
     "name": "stdout",
     "output_type": "stream",
     "text": [
      "The slowest run took 308005.18 times longer than the fastest. This could mean that an intermediate result is being cached \n",
      "10000000 loops, best of 3: 191 ns per loop\n"
     ]
    }
   ],
   "source": [
    "%timeit hypot(3, 4)"
   ]
  },
  {
   "cell_type": "markdown",
   "metadata": {},
   "source": [
    "There are two things to note here:\n",
    "- First, the execution time is reduced when we jitted both functions. Calling jitted functions from other jitted functions is possible, and brings a speed improvement over calling normal Python functions.\n",
    "- Secondly, even though we did not change `hypot`, we needed to redefine it after changing the `square` function. This is because Numba resolved the call to `square` when it compiled `hypot`, not at the time `square` is called.\n",
    "\n",
    "## Numba overheads\n",
    "\n",
    "Let’s define a Python function that adds two numbers (to complement our add function from above):"
   ]
  },
  {
   "cell_type": "code",
   "execution_count": 17,
   "metadata": {
    "collapsed": true
   },
   "outputs": [],
   "source": [
    "def add_python(x, y):\n",
    "    return x + y"
   ]
  },
  {
   "cell_type": "markdown",
   "metadata": {},
   "source": [
    "Now try benchmarking it against the Numba-compiled function:"
   ]
  },
  {
   "cell_type": "code",
   "execution_count": 18,
   "metadata": {
    "collapsed": false
   },
   "outputs": [
    {
     "name": "stdout",
     "output_type": "stream",
     "text": [
      "The slowest run took 20.09 times longer than the fastest. This could mean that an intermediate result is being cached \n",
      "1000000 loops, best of 3: 207 ns per loop\n"
     ]
    }
   ],
   "source": [
    "%timeit add(1, 2)"
   ]
  },
  {
   "cell_type": "code",
   "execution_count": 21,
   "metadata": {
    "collapsed": false
   },
   "outputs": [
    {
     "name": "stdout",
     "output_type": "stream",
     "text": [
      "The slowest run took 13.38 times longer than the fastest. This could mean that an intermediate result is being cached \n",
      "10000000 loops, best of 3: 97.9 ns per loop\n"
     ]
    }
   ],
   "source": [
    "%timeit add_python(1, 2)"
   ]
  },
  {
   "cell_type": "markdown",
   "metadata": {},
   "source": [
    "The Numba-compiled code takes longer than the Python code! This illustrates that there is some overhead for calling a Numba-compiled function. The work done by a function must be large enough that the speedup from compiling amortises the overhead of the Numba function call cost.\n",
    "\n",
    "Let's try a function which performs more computation. Define the normal and jitted versions:"
   ]
  },
  {
   "cell_type": "code",
   "execution_count": 23,
   "metadata": {
    "collapsed": true
   },
   "outputs": [],
   "source": [
    "def clip(x, lim):\n",
    "    for i in range(len(x)):\n",
    "        if x[i] > lim:\n",
    "            x[i] = lim\n",
    "\n",
    "\n",
    "@jit\n",
    "def clip_jit(x, lim):\n",
    "    for i in range(len(x)):\n",
    "        if x[i] > lim:\n",
    "            x[i] = lim"
   ]
  },
  {
   "cell_type": "markdown",
   "metadata": {},
   "source": [
    "Now let's set up some imput data:"
   ]
  },
  {
   "cell_type": "code",
   "execution_count": 24,
   "metadata": {
    "collapsed": true
   },
   "outputs": [],
   "source": [
    "import numpy as np\n",
    "\n",
    "a1 = np.arange(1000)\n",
    "a2 = np.arange(1000)"
   ]
  },
  {
   "cell_type": "markdown",
   "metadata": {},
   "source": [
    "And let's benchmark these two implementations:"
   ]
  },
  {
   "cell_type": "code",
   "execution_count": 25,
   "metadata": {
    "collapsed": false
   },
   "outputs": [
    {
     "name": "stdout",
     "output_type": "stream",
     "text": [
      "10000 loops, best of 3: 173 µs per loop\n"
     ]
    }
   ],
   "source": [
    "%timeit clip(a1, 100)"
   ]
  },
  {
   "cell_type": "code",
   "execution_count": 26,
   "metadata": {
    "collapsed": false
   },
   "outputs": [
    {
     "name": "stdout",
     "output_type": "stream",
     "text": [
      "The slowest run took 69701.44 times longer than the fastest. This could mean that an intermediate result is being cached \n",
      "1000000 loops, best of 3: 819 ns per loop\n"
     ]
    }
   ],
   "source": [
    "%timeit clip_jit(a2, 100)"
   ]
  },
  {
   "cell_type": "markdown",
   "metadata": {},
   "source": [
    "You should see a significant speedup from the use of clip_jit compared to clip. (On my laptop, a speedup of about 200 times over the Python implementation is obtained)."
   ]
  },
  {
   "cell_type": "markdown",
   "metadata": {},
   "source": [
    "# Summary\n",
    "\n",
    "- You use the jit decorator to instruct Numba to compile a function.\n",
    "- Numba infers the types of arguments, and specialises the compiled function to the argument types.\n",
    "- You can also specify the types of the arguments ahead of time, but this will prevent specialisations for other types being compiled.\n",
    "- Jitted functions can call other jitted functions (and it is faster to do so).\n",
    "- Jitted function calls have overhead - you must make sure they do enough computation to get an overall speedup."
   ]
  },
  {
   "cell_type": "code",
   "execution_count": null,
   "metadata": {
    "collapsed": true
   },
   "outputs": [],
   "source": []
  }
 ],
 "metadata": {
  "kernelspec": {
   "display_name": "Python 3",
   "language": "python",
   "name": "python3"
  },
  "language_info": {
   "codemirror_mode": {
    "name": "ipython",
    "version": 3
   },
   "file_extension": ".py",
   "mimetype": "text/x-python",
   "name": "python",
   "nbconvert_exporter": "python",
   "pygments_lexer": "ipython3",
   "version": "3.4.3"
  }
 },
 "nbformat": 4,
 "nbformat_minor": 0
}
